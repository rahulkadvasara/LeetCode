{
 "cells": [
  {
   "cell_type": "markdown",
   "id": "d2f65f67",
   "metadata": {},
   "source": [
    "700. Search in a Binary Search Tree\n",
    "Easy\n",
    "\n",
    "You are given the root of a binary search tree (BST) and an integer val.\n",
    "Find the node in the BST that the node's value equals val and return the subtree rooted with that node. If such a node does not exist, return null.\n",
    "\n",
    "Example 1:\n",
    "Input: root = [4,2,7,1,3], val = 2\n",
    "Output: [2,1,3]\n",
    "\n",
    "Example 2:\n",
    "Input: root = [4,2,7,1,3], val = 5\n",
    "Output: []\n",
    " \n",
    "Constraints:\n",
    "The number of nodes in the tree is in the range [1, 5000].\n",
    "1 <= Node.val <= 107\n",
    "root is a binary search tree.\n",
    "1 <= val <= 107"
   ]
  },
  {
   "cell_type": "markdown",
   "id": "f8488e11",
   "metadata": {},
   "source": [
    "# Definition for a binary tree node.\n",
    "# class TreeNode:\n",
    "#     def __init__(self, val=0, left=None, right=None):\n",
    "#         self.val = val\n",
    "#         self.left = left\n",
    "#         self.right = right\n",
    "class Solution:\n",
    "    def searchBST(self, root: Optional[TreeNode], val: int) -> Optional[TreeNode]:\n",
    "        if not root:\n",
    "            return None\n",
    "        if root.val == val:\n",
    "            return root\n",
    "        elif root.val>val:\n",
    "            return self.searchBST(root.left,val)\n",
    "        else:\n",
    "            return self.searchBST(root.right,val)"
   ]
  },
  {
   "cell_type": "code",
   "execution_count": null,
   "id": "61f095c5",
   "metadata": {},
   "outputs": [],
   "source": [
    "# Definition for a binary tree node.\n",
    "# class TreeNode:\n",
    "#     def __init__(self, val=0, left=None, right=None):\n",
    "#         self.val = val\n",
    "#         self.left = left\n",
    "#         self.right = right\n",
    "class Solution:\n",
    "    def searchBST(self, root: Optional[TreeNode], val: int) -> Optional[TreeNode]:\n",
    "        if not root:\n",
    "            return None\n",
    "        curr= root\n",
    "        while curr is not None:\n",
    "            if curr.val == val:\n",
    "                return curr\n",
    "            if curr.val > val:\n",
    "                curr = curr.left\n",
    "            elif curr.val < val:\n",
    "                curr = curr.right\n",
    "        return None\n",
    "        "
   ]
  }
 ],
 "metadata": {
  "language_info": {
   "name": "python"
  }
 },
 "nbformat": 4,
 "nbformat_minor": 5
}
