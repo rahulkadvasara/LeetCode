{
 "cells": [
  {
   "cell_type": "markdown",
   "id": "ddd9abee",
   "metadata": {},
   "source": [
    "1464. Maximum Product of Two Elements in an Array\n",
    "Easy\n",
    "\n",
    "Given the array of integers nums, you will choose two different indices i and j of that array. Return the maximum value of (nums[i]-1)*(nums[j]-1).\n",
    "\n",
    "Example 1:\n",
    "Input: nums = [3,4,5,2]\n",
    "Output: 12 \n",
    "Explanation: If you choose the indices i=1 and j=2 (indexed from 0), you will get the maximum value, that is, (nums[1]-1)*(nums[2]-1) = (4-1)*(5-1) = 3*4 = 12. \n",
    "\n",
    "Example 2:\n",
    "Input: nums = [1,5,4,5]\n",
    "Output: 16\n",
    "Explanation: Choosing the indices i=1 and j=3 (indexed from 0), you will get the maximum value of (5-1)*(5-1) = 16.\n",
    "\n",
    "Example 3:\n",
    "Input: nums = [3,7]\n",
    "Output: 12\n",
    "\n",
    "Constraints:\n",
    "2 <= nums.length <= 500\n",
    "1 <= nums[i] <= 10^3"
   ]
  },
  {
   "cell_type": "code",
   "execution_count": null,
   "id": "6814ddc2",
   "metadata": {},
   "outputs": [],
   "source": [
    "class Solution:\n",
    "    def maxProduct(self, nums: List[int]) -> int:\n",
    "        ans = 0\n",
    "        for i in range(len(nums)):\n",
    "            for j in range(i + 1, len(nums)):\n",
    "                ans = max(ans, (nums[i] - 1) * (nums[j] - 1))\n",
    "        \n",
    "        return ans"
   ]
  },
  {
   "cell_type": "code",
   "execution_count": null,
   "id": "089ce360",
   "metadata": {},
   "outputs": [],
   "source": [
    "class Solution:\n",
    "    def maxProduct(self, nums: List[int]) -> int:\n",
    "        nums.sort(reverse = True)\n",
    "        return (nums[0]-1)*(nums[1]-1)"
   ]
  },
  {
   "cell_type": "code",
   "execution_count": null,
   "id": "aa23950c",
   "metadata": {},
   "outputs": [],
   "source": [
    "class Solution:\n",
    "    def maxProduct(self, nums: List[int]) -> int:\n",
    "        biggest = 0\n",
    "        second_biggest = 0\n",
    "        for num in nums:\n",
    "            if num > biggest:\n",
    "                second_biggest = biggest\n",
    "                biggest = num\n",
    "            else:\n",
    "                second_biggest = max(second_biggest, num)\n",
    "        \n",
    "        return (biggest - 1) * (second_biggest - 1)"
   ]
  },
  {
   "cell_type": "code",
   "execution_count": null,
   "id": "c7608516",
   "metadata": {},
   "outputs": [],
   "source": [
    "class Solution:\n",
    "    def maxProduct(self, nums: list[int]) -> int:\n",
    "        num1, num2 = 0, 0\n",
    "        for num in nums:\n",
    "            if num > num1:\n",
    "                num2 = num1\n",
    "                num1 = num\n",
    "            elif num > num2:\n",
    "                num2 = num\n",
    "        return (num1 - 1) * (num2 - 1)"
   ]
  },
  {
   "cell_type": "code",
   "execution_count": null,
   "id": "36ad6840",
   "metadata": {},
   "outputs": [],
   "source": [
    "class Solution:\n",
    "    def maxProduct(self, nums: List[int]) -> int:\n",
    "        res = 0\n",
    "        cur_max = nums[0]\n",
    "\n",
    "        for i in range(1, len(nums)):\n",
    "            res = max(res, (cur_max - 1) * (nums[i] - 1))\n",
    "            cur_max = max(cur_max, nums[i])\n",
    "\n",
    "        return res        "
   ]
  }
 ],
 "metadata": {
  "language_info": {
   "name": "python"
  }
 },
 "nbformat": 4,
 "nbformat_minor": 5
}
