{
 "cells": [
  {
   "cell_type": "markdown",
   "id": "fc086988",
   "metadata": {},
   "source": [
    "215. Kth Largest Element in an Array\n",
    "Medium\n",
    "\n",
    "Given an integer array nums and an integer k, return the kth largest element in the array.\n",
    "Note that it is the kth largest element in the sorted order, not the kth distinct element.\n",
    "Can you solve it without sorting?\n",
    "\n",
    "Example 1:\n",
    "Input: nums = [3,2,1,5,6,4], k = 2\n",
    "Output: 5\n",
    "\n",
    "Example 2:\n",
    "Input: nums = [3,2,3,1,2,4,5,5,6], k = 4\n",
    "Output: 4\n",
    "\n",
    "Constraints:\n",
    "1 <= k <= nums.length <= 105\n",
    "-104 <= nums[i] <= 104"
   ]
  },
  {
   "cell_type": "code",
   "execution_count": null,
   "id": "1f5ae636",
   "metadata": {},
   "outputs": [],
   "source": [
    "class Solution:\n",
    "    def findKthLargest(self, nums: List[int], k: int) -> int:\n",
    "        heapq.heapify(nums)\n",
    "        while len(nums)>k:\n",
    "            heapq.heappop(nums)\n",
    "        \n",
    "        return nums[0]"
   ]
  },
  {
   "cell_type": "code",
   "execution_count": null,
   "id": "c805ee33",
   "metadata": {},
   "outputs": [],
   "source": [
    "class Solution:\n",
    "    def findKthLargest(self, nums: List[int], k: int) -> int:\n",
    "        ans=sorted(nums)\n",
    "        return ans[-k]"
   ]
  },
  {
   "cell_type": "code",
   "execution_count": null,
   "id": "46a6b619",
   "metadata": {},
   "outputs": [],
   "source": [
    "class Solution:\n",
    "    def findKthLargest(self, nums: List[int], k: int) -> int:\n",
    "        \n",
    "\n",
    "        heapq.heapify(nums)\n",
    "        l=len(nums)\n",
    "        c=l-k\n",
    "        c1=0\n",
    "        while c1<c:\n",
    "            heapq.heappop(nums)\n",
    "            c1+=1\n",
    "        return heapq.heappop(nums)"
   ]
  },
  {
   "cell_type": "code",
   "execution_count": null,
   "id": "53e3cce0",
   "metadata": {},
   "outputs": [],
   "source": [
    "# Quickselect, average runtime O(n)\n",
    "\n",
    "# First, find a pivot index (usually random). \n",
    "# Then partition nums into 3 sections: left (greater than pivot), mid, right\n",
    "# if len(left) >= k, the answer must be in left. \n",
    "#   We run quickselect in left, looking for kth largest. \n",
    "# if len(left) + len(mid) < k, the answer must be in right. \n",
    "#   We run quickselect in right, looking for (k - len(left) - len(mid))th element\n",
    "# else, answer is pivot\n",
    "\n",
    "\n",
    "import random\n",
    "\n",
    "class Solution:\n",
    "    def findKthLargest(self, nums: List[int], k: int) -> int:\n",
    "\n",
    "        def quickselect(nums, k):\n",
    "            pivot = random.choice(nums)\n",
    "            left, mid, right = [], [], []\n",
    "            for num in nums:\n",
    "                if num > pivot:\n",
    "                    left.append(num)\n",
    "                elif num < pivot:\n",
    "                    right.append(num)\n",
    "                else:\n",
    "                    mid.append(num)\n",
    "            \n",
    "            if len(left) >= k:\n",
    "                return quickselect(left, k)\n",
    "            elif len(left) + len(mid) < k:\n",
    "                return quickselect(right, k - len(left) - len(mid))\n",
    "            else:\n",
    "                return pivot\n",
    "\n",
    "        return quickselect(nums, k)"
   ]
  },
  {
   "cell_type": "code",
   "execution_count": null,
   "id": "617cf84d",
   "metadata": {},
   "outputs": [],
   "source": [
    "class Solution:\n",
    "    def findKthLargest(self, nums: List[int], k: int) -> int:\n",
    "        minVal,maxVal = min(nums),max(nums)\n",
    "        numCount =  [0]*(maxVal-minVal+1)\n",
    "\n",
    "        for num in nums:\n",
    "            idx=num-minVal\n",
    "            numCount[idx]+=1\n",
    "        \n",
    "        for i in range(len(numCount)-1,-1,-1):\n",
    "            k -= numCount[i]\n",
    "            if k <=0:return i+minVal\n",
    "        "
   ]
  }
 ],
 "metadata": {
  "language_info": {
   "name": "python"
  }
 },
 "nbformat": 4,
 "nbformat_minor": 5
}
