{
 "cells": [
  {
   "cell_type": "markdown",
   "id": "b041bc21",
   "metadata": {},
   "source": [
    "2335. Minimum Amount of Time to Fill Cups\n",
    "Easy\n",
    "\n",
    "You have a water dispenser that can dispense cold, warm, and hot water. Every second, you can either fill up 2 cups with different types of water, or 1 cup of any type of water.\n",
    "You are given a 0-indexed integer array amount of length 3 where amount[0], amount[1], and amount[2] denote the number of cold, warm, and hot water cups you need to fill respectively. Return the minimum number of seconds needed to fill up all the cups.\n",
    "\n",
    "Example 1:\n",
    "Input: amount = [1,4,2]\n",
    "Output: 4\n",
    "Explanation: One way to fill up the cups is:\n",
    "Second 1: Fill up a cold cup and a warm cup.\n",
    "Second 2: Fill up a warm cup and a hot cup.\n",
    "Second 3: Fill up a warm cup and a hot cup.\n",
    "Second 4: Fill up a warm cup.\n",
    "It can be proven that 4 is the minimum number of seconds needed.\n",
    "\n",
    "Example 2:\n",
    "Input: amount = [5,4,4]\n",
    "Output: 7\n",
    "Explanation: One way to fill up the cups is:\n",
    "Second 1: Fill up a cold cup, and a hot cup.\n",
    "Second 2: Fill up a cold cup, and a warm cup.\n",
    "Second 3: Fill up a cold cup, and a warm cup.\n",
    "Second 4: Fill up a warm cup, and a hot cup.\n",
    "Second 5: Fill up a cold cup, and a hot cup.\n",
    "Second 6: Fill up a cold cup, and a warm cup.\n",
    "Second 7: Fill up a hot cup.\n",
    "\n",
    "Example 3:\n",
    "Input: amount = [5,0,0]\n",
    "Output: 5\n",
    "Explanation: Every second, we fill up a cold cup.\n",
    "\n",
    "Constraints:\n",
    "amount.length == 3\n",
    "0 <= amount[i] <= 100"
   ]
  },
  {
   "cell_type": "code",
   "execution_count": null,
   "id": "fa7b4925",
   "metadata": {},
   "outputs": [],
   "source": [
    "class Solution:\n",
    "    def fillCups(self, amount: List[int]) -> int:\n",
    "        ans = 0\n",
    "        while True:\n",
    "            amount.sort()\n",
    "            if amount[1] == 0:\n",
    "                return ans + amount[2]\n",
    "            ans+=1\n",
    "            amount[1] -= 1\n",
    "            amount[2] -= 1\n",
    "        return ans"
   ]
  },
  {
   "cell_type": "code",
   "execution_count": null,
   "id": "9d4dae8b",
   "metadata": {},
   "outputs": [],
   "source": [
    "class Solution:\n",
    "    def fillCups(self, amount: List[int]) -> int:\n",
    "        heap = []\n",
    "        for i in amount:\n",
    "            if i != 0:\n",
    "                heapq.heappush(heap, -i)\n",
    "        \n",
    "        resp = 0\n",
    "        while heap:\n",
    "            print(heap)\n",
    "            if len(heap)>=2:\n",
    "                x1 = -heapq.heappop(heap)\n",
    "                x2 = -heapq.heappop(heap)\n",
    "                x1 -= 1\n",
    "                x2 -= 1\n",
    "                if x1 != 0:\n",
    "                    heapq.heappush(heap, -x1)\n",
    "                if x2 != 0:\n",
    "                    heapq.heappush(heap, -x2)\n",
    "                resp += 1\n",
    "            else:\n",
    "                x1 = -heapq.heappop(heap)\n",
    "                resp += x1\n",
    "        return resp"
   ]
  },
  {
   "cell_type": "code",
   "execution_count": null,
   "id": "76e09d2d",
   "metadata": {},
   "outputs": [],
   "source": [
    "class Solution:\n",
    "    def fillCups(self, amount: List[int]) -> int:\n",
    "        amount = sorted(amount, reverse=True)\n",
    "        if amount[0] >= amount[1]+amount[2]:\n",
    "            return amount[0]\n",
    "        if sum(amount) % 2 == 1:\n",
    "            return sum(amount)//2 +1\n",
    "        return sum(amount)//2"
   ]
  },
  {
   "cell_type": "code",
   "execution_count": null,
   "id": "18ab9a5f",
   "metadata": {},
   "outputs": [],
   "source": [
    "class Solution:\n",
    "    def fillCups(self, amount: List[int]) -> int:\n",
    "        res = 0\n",
    "        while amount[0] > 0 or amount[1] > 0 or amount[2] > 0:\n",
    "            amount.sort()\n",
    "            amount[2] -=1\n",
    "            amount[1] -=1\n",
    "\n",
    "            res += 1\n",
    "\n",
    "        return res"
   ]
  }
 ],
 "metadata": {
  "language_info": {
   "name": "python"
  }
 },
 "nbformat": 4,
 "nbformat_minor": 5
}
