{
 "cells": [
  {
   "cell_type": "markdown",
   "id": "d71c59a9",
   "metadata": {},
   "source": [
    "90. Subsets II\n",
    "Medium\n",
    "Topics\n",
    "premium lock icon\n",
    "Companies\n",
    "Given an integer array nums that may contain duplicates, return all possible subsets (the power set).\n",
    "\n",
    "The solution set must not contain duplicate subsets. Return the solution in any order.\n",
    "\n",
    " \n",
    "\n",
    "Example 1:\n",
    "\n",
    "Input: nums = [1,2,2]\n",
    "Output: [[],[1],[1,2],[1,2,2],[2],[2,2]]\n",
    "Example 2:\n",
    "\n",
    "Input: nums = [0]\n",
    "Output: [[],[0]]\n",
    " \n",
    "\n",
    "Constraints:\n",
    "\n",
    "1 <= nums.length <= 10\n",
    "-10 <= nums[i] <= 10"
   ]
  },
  {
   "cell_type": "code",
   "execution_count": null,
   "id": "9d71bb18",
   "metadata": {},
   "outputs": [],
   "source": [
    "class Solution:\n",
    "    def subsetsWithDup(self, nums: List[int]) -> List[List[int]]:\n",
    "        nums.sort()\n",
    "        result = []\n",
    "        self.backtrack(nums, 0, [], result)\n",
    "        return result\n",
    "\n",
    "    def backtrack(self, nums, start, path, result):\n",
    "        result.append(list(path))\n",
    "        for i in range(start, len(nums)):\n",
    "            if i > start and nums[i] == nums[i - 1]:\n",
    "                continue\n",
    "            path.append(nums[i])\n",
    "            self.backtrack(nums, i + 1, path, result)\n",
    "            path.pop()"
   ]
  },
  {
   "cell_type": "code",
   "execution_count": null,
   "id": "cbc6c564",
   "metadata": {},
   "outputs": [],
   "source": [
    "class Solution:\n",
    "    def subsetsWithDup(self, nums: List[int]) -> List[List[int]]:\n",
    "        n=len(nums)\n",
    "        nums.sort()\n",
    "        res,sol=[],[]\n",
    "\n",
    "        def backtrack(i):\n",
    "            if i==n:\n",
    "                res.append(sol[:])\n",
    "                return\n",
    "            \n",
    "            sol.append(nums[i])\n",
    "            backtrack(i+1)\n",
    "            sol.pop()\n",
    "            \n",
    "            while i+1<n and nums[i]==nums[i+1]:\n",
    "                i+=1\n",
    "            backtrack(i+1)\n",
    "        \n",
    "        backtrack(0)\n",
    "\n",
    "        return res\n"
   ]
  }
 ],
 "metadata": {
  "language_info": {
   "name": "python"
  }
 },
 "nbformat": 4,
 "nbformat_minor": 5
}
