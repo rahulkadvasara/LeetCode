{
 "cells": [
  {
   "cell_type": "markdown",
   "id": "a0772d63",
   "metadata": {},
   "source": [
    "257. Binary Tree Paths\n",
    "Easy\n",
    "\n",
    "Given the root of a binary tree, return all root-to-leaf paths in any order.\n",
    "A leaf is a node with no children.\n",
    "\n",
    "Example 1:\n",
    "Input: root = [1,2,3,null,5]\n",
    "Output: [\"1->2->5\",\"1->3\"]\n",
    "\n",
    "Example 2:\n",
    "Input: root = [1]\n",
    "Output: [\"1\"]\n",
    "\n",
    "Constraints:\n",
    "The number of nodes in the tree is in the range [1, 100].\n",
    "-100 <= Node.val <= 100"
   ]
  },
  {
   "cell_type": "code",
   "execution_count": null,
   "id": "45674737",
   "metadata": {},
   "outputs": [],
   "source": [
    "# Definition for a binary tree node.\n",
    "# class TreeNode:\n",
    "#     def __init__(self, val=0, left=None, right=None):\n",
    "#         self.val = val\n",
    "#         self.left = left\n",
    "#         self.right = right\n",
    "class Solution:\n",
    "    def binaryTreePaths(self, root: Optional[TreeNode]) -> List[str]:\n",
    "        path = []\n",
    "        ans = []\n",
    "\n",
    "        def func(root):\n",
    "            if not root:\n",
    "                return\n",
    "            path.append(str(root.val))\n",
    "            if not root.left and not root.right:\n",
    "                ans.append(\"->\".join(path))\n",
    "            else:\n",
    "                func(root.left)\n",
    "                func(root.right)\n",
    "            path.pop()\n",
    "\n",
    "        func(root)\n",
    "        return ans"
   ]
  },
  {
   "cell_type": "code",
   "execution_count": null,
   "id": "f8d13533",
   "metadata": {},
   "outputs": [],
   "source": [
    "class Solution:\n",
    "    def binaryTreePaths(self, root: Optional[TreeNode]) -> List[str]:\n",
    "        def dfs(node, path, result):\n",
    "            if not node:\n",
    "                return\n",
    "            path += str(node.val)\n",
    "            if not node.left and not node.right:\n",
    "                result.append(path)\n",
    "            else:\n",
    "                dfs(node.left, path + '->', result)\n",
    "                dfs(node.right, path + '->', result)\n",
    "\n",
    "        result = []\n",
    "        dfs(root, '', result)\n",
    "        return result "
   ]
  },
  {
   "cell_type": "code",
   "execution_count": null,
   "id": "5ae91fd4",
   "metadata": {},
   "outputs": [],
   "source": [
    "class Solution:\n",
    "    def binaryTreePaths(self, root: Optional[TreeNode]) -> List[str]:\n",
    "        def dfs(node, path, result):\n",
    "            if not node:\n",
    "                return\n",
    "            path.append(str(node.val))\n",
    "            if not node.left and not node.right:\n",
    "                result.append('->'.join(path))\n",
    "            else:\n",
    "                dfs(node.left, path, result)\n",
    "                dfs(node.right, path, result)\n",
    "            path.pop()  # Backtrack by removing the last element\n",
    "\n",
    "        result = []\n",
    "        dfs(root, [], result)\n",
    "        return result"
   ]
  }
 ],
 "metadata": {
  "language_info": {
   "name": "python"
  }
 },
 "nbformat": 4,
 "nbformat_minor": 5
}
