{
 "cells": [
  {
   "cell_type": "markdown",
   "id": "8c52b81c",
   "metadata": {},
   "source": [
    "671. Second Minimum Node In a Binary Tree\n",
    "Easy\n",
    "\n",
    "Given a non-empty special binary tree consisting of nodes with the non-negative value, where each node in this tree has exactly two or zero sub-node. If the node has two sub-nodes, then this node's value is the smaller value among its two sub-nodes. More formally, the property root.val = min(root.left.val, root.right.val) always holds.\n",
    "Given such a binary tree, you need to output the second minimum value in the set made of all the nodes' value in the whole tree.\n",
    "If no such second minimum value exists, output -1 instead.\n",
    "\n",
    "Example 1:\n",
    "Input: root = [2,2,5,null,null,5,7]\n",
    "Output: 5\n",
    "Explanation: The smallest value is 2, the second smallest value is 5.\n",
    "\n",
    "Example 2:\n",
    "Input: root = [2,2,2]\n",
    "Output: -1\n",
    "Explanation: The smallest value is 2, but there isn't any second smallest value.\n",
    "\n",
    "Constraints:\n",
    "The number of nodes in the tree is in the range [1, 25].\n",
    "1 <= Node.val <= 231 - 1\n",
    "root.val == min(root.left.val, root.right.val) for each internal node of the tree."
   ]
  },
  {
   "cell_type": "code",
   "execution_count": null,
   "id": "4f6d9137",
   "metadata": {},
   "outputs": [],
   "source": [
    "# Definition for a binary tree node.\n",
    "# class TreeNode:\n",
    "#     def __init__(self, val=0, left=None, right=None):\n",
    "#         self.val = val\n",
    "#         self.left = left\n",
    "#         self.right = right\n",
    "class Solution:\n",
    "    def findSecondMinimumValue(self, root: Optional[TreeNode]) -> int:\n",
    "        def dfs(node):\n",
    "            if node:\n",
    "                uniques.add(node.val)\n",
    "                dfs(node.left)\n",
    "                dfs(node.right)\n",
    "\n",
    "        uniques = set()\n",
    "        dfs(root)\n",
    "\n",
    "        min1, ans = root.val, float('inf')\n",
    "        for v in uniques:\n",
    "            if min1 < v < ans:\n",
    "                ans = v\n",
    "\n",
    "        return ans if ans < float('inf') else -1"
   ]
  },
  {
   "cell_type": "code",
   "execution_count": null,
   "id": "8d288860",
   "metadata": {},
   "outputs": [],
   "source": [
    "# Definition for a binary tree node.\n",
    "# class TreeNode:\n",
    "#     def __init__(self, val=0, left=None, right=None):\n",
    "#         self.val = val\n",
    "#         self.left = left\n",
    "#         self.right = right\n",
    "class Solution:\n",
    "    def findSecondMinimumValue(self, root: Optional[TreeNode]) -> int:\n",
    "        self.ans = float('inf')\n",
    "        min1 = root.val\n",
    "\n",
    "        def dfs(node):\n",
    "            if node:\n",
    "                if min1 < node.val < self.ans:\n",
    "                    self.ans = node.val\n",
    "                elif node.val == min1:\n",
    "                    dfs(node.left)\n",
    "                    dfs(node.right)\n",
    "\n",
    "        dfs(root)\n",
    "        return self.ans if self.ans < float('inf') else -1"
   ]
  }
 ],
 "metadata": {
  "language_info": {
   "name": "python"
  }
 },
 "nbformat": 4,
 "nbformat_minor": 5
}
