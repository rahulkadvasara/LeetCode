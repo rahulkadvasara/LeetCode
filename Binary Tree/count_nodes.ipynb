{
 "cells": [
  {
   "cell_type": "markdown",
   "id": "d8eb16c0",
   "metadata": {},
   "source": [
    "222. Count Complete Tree Nodes\n",
    "Easy\n",
    "\n",
    "Given the root of a complete binary tree, return the number of the nodes in the tree.\n",
    "According to Wikipedia, every level, except possibly the last, is completely filled in a complete binary tree, and all nodes in the last level are as far left as possible. It can have between 1 and 2h nodes inclusive at the last level h.\n",
    "Design an algorithm that runs in less than O(n) time complexity.\n",
    "\n",
    "Example 1:\n",
    "Input: root = [1,2,3,4,5,6]\n",
    "Output: 6\n",
    "\n",
    "Example 2:\n",
    "Input: root = []\n",
    "Output: 0\n",
    "\n",
    "Example 3:\n",
    "Input: root = [1]\n",
    "Output: 1\n",
    "\n",
    "Constraints:\n",
    "The number of nodes in the tree is in the range [0, 5 * 104].\n",
    "0 <= Node.val <= 5 * 104\n",
    "The tree is guaranteed to be complete."
   ]
  },
  {
   "cell_type": "code",
   "execution_count": null,
   "id": "396ae800",
   "metadata": {},
   "outputs": [],
   "source": [
    "# Definition for a binary tree node.\n",
    "# class TreeNode:\n",
    "#     def __init__(self, val=0, left=None, right=None):\n",
    "#         self.val = val\n",
    "#         self.left = left\n",
    "#         self.right = right\n",
    "class Solution:\n",
    "    def countNodes(self, root: Optional[TreeNode]) -> int:\n",
    "        if not root:\n",
    "            return 0\n",
    "\n",
    "        l = self.countNodes(root.left)\n",
    "        r = self.countNodes(root.right)\n",
    "        \n",
    "        return 1+l+r"
   ]
  },
  {
   "cell_type": "code",
   "execution_count": null,
   "id": "3b7219f8",
   "metadata": {},
   "outputs": [],
   "source": [
    "# Definition for a binary tree node.\n",
    "# class TreeNode:\n",
    "#     def __init__(self, val=0, left=None, right=None):\n",
    "#         self.val = val\n",
    "#         self.left = left\n",
    "#         self.right = right\n",
    "class Solution:\n",
    "    def countNodes(self, root: Optional[TreeNode]) -> int:\n",
    "        if not root:\n",
    "            return 0\n",
    "        \n",
    "        q = deque()\n",
    "        q.append(root)\n",
    "        n = 0\n",
    "        \n",
    "        while q:\n",
    "            \n",
    "            for _ in range(len(q)):\n",
    "                node = q.popleft()\n",
    "                if node.left:\n",
    "                    q.append(node.left)\n",
    "                    n+=1\n",
    "                if node.right:\n",
    "                    q.append(node.right)\n",
    "                    n+=1\n",
    "        \n",
    "        return n+1"
   ]
  }
 ],
 "metadata": {
  "language_info": {
   "name": "python"
  }
 },
 "nbformat": 4,
 "nbformat_minor": 5
}
