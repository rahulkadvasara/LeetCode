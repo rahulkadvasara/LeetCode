{
 "cells": [
  {
   "cell_type": "markdown",
   "id": "571a3c8a",
   "metadata": {},
   "source": [
    "101. Symmetric Tree\n",
    "Easy\n",
    "\n",
    "Given the root of a binary tree, check whether it is a mirror of itself (i.e., symmetric around its center).\n",
    "\n",
    "Example 1:\n",
    "Input: root = [1,2,2,3,4,4,3]\n",
    "Output: true\n",
    "\n",
    "Example 2:\n",
    "Input: root = [1,2,2,null,3,null,3]\n",
    "Output: false\n",
    "\n",
    "Constraints:\n",
    "The number of nodes in the tree is in the range [1, 1000].\n",
    "-100 <= Node.val <= 100\n",
    " \n",
    "Follow up: Could you solve it both recursively and iteratively?"
   ]
  },
  {
   "cell_type": "code",
   "execution_count": null,
   "id": "833d0fee",
   "metadata": {},
   "outputs": [],
   "source": [
    "# sol 1\n",
    "\n",
    "# Definition for a binary tree node.\n",
    "# class TreeNode:\n",
    "#     def __init__(self, val=0, left=None, right=None):\n",
    "#         self.val = val\n",
    "#         self.left = left\n",
    "#         self.right = right\n",
    "class Solution:\n",
    "    def isSymmetric(self, root: Optional[TreeNode]) -> bool:\n",
    "        def is_mirror(n1, n2): # n1:left, n2:right\n",
    "            if not n1 and not n2:\n",
    "                return True\n",
    "            \n",
    "            if not n1 or not n2:\n",
    "                return False\n",
    "            \n",
    "            return n1.val == n2.val and is_mirror(n1.left, n2.right) and is_mirror(n1.right, n2.left)\n",
    "        \n",
    "        return is_mirror(root.left, root.right)"
   ]
  },
  {
   "cell_type": "code",
   "execution_count": null,
   "id": "2c666392",
   "metadata": {},
   "outputs": [],
   "source": [
    "# sol 2\n",
    "\n",
    "class Solution(object):\n",
    "    def isSymmetric(self, root):\n",
    "        # Special case...\n",
    "        if not root:\n",
    "            return true;\n",
    "        # Return the function recursively...\n",
    "        return self.isSame(root.left, root.right)\n",
    "    # A tree is called symmetric if the left subtree must be a mirror reflection of the right subtree...\n",
    "    def isSame(self, leftroot, rightroot):\n",
    "        # If both root nodes are null pointers, return true...\n",
    "        if leftroot == None and rightroot == None:\n",
    "            return True\n",
    "        # If exactly one of them is a null node, return false...\n",
    "        if leftroot == None or rightroot == None:\n",
    "            return False\n",
    "        # If root nodes haven't same value, return false...\n",
    "        if leftroot.val != rightroot.val:\n",
    "            return False\n",
    "        # Return true if the values of root nodes are same and left as well as right subtrees are symmetric...\n",
    "        return self.isSame(leftroot.left, rightroot.right) and self.isSame(leftroot.right, rightroot.left)"
   ]
  }
 ],
 "metadata": {
  "language_info": {
   "name": "python"
  }
 },
 "nbformat": 4,
 "nbformat_minor": 5
}
