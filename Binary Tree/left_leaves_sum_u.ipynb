{
 "cells": [
  {
   "cell_type": "markdown",
   "id": "3631e100",
   "metadata": {},
   "source": [
    "404. Sum of Left Leaves\n",
    "Easy\n",
    "\n",
    "Given the root of a binary tree, return the sum of all left leaves.\n",
    "A leaf is a node with no children. A left leaf is a leaf that is the left child of another node.\n",
    "\n",
    "Example 1:\n",
    "Input: root = [3,9,20,null,null,15,7]\n",
    "Output: 24\n",
    "Explanation: There are two left leaves in the binary tree, with values 9 and 15 respectively.\n",
    "\n",
    "Example 2:\n",
    "Input: root = [1]\n",
    "Output: 0\n",
    "\n",
    "Constraints:\n",
    "The number of nodes in the tree is in the range [1, 1000].\n",
    "-1000 <= Node.val <= 1000"
   ]
  },
  {
   "cell_type": "code",
   "execution_count": null,
   "id": "cba995aa",
   "metadata": {},
   "outputs": [],
   "source": [
    "# Definition for a binary tree node.\n",
    "# class TreeNode:\n",
    "#     def __init__(self, val=0, left=None, right=None):\n",
    "#         self.val = val\n",
    "#         self.left = left\n",
    "#         self.right = right\n",
    "class Solution:\n",
    "    def sumOfLeftLeaves(self, root: Optional[TreeNode]) -> int:\n",
    "        if not root:\n",
    "            return 0\n",
    "        \n",
    "        if root.left and not root.left.left and not root.left.right:\n",
    "            return root.left.val + self.sumOfLeftLeaves(root.right)\n",
    "        \n",
    "        return self.sumOfLeftLeaves(root.left) + self.sumOfLeftLeaves(root.right)"
   ]
  },
  {
   "cell_type": "code",
   "execution_count": null,
   "id": "91d77a73",
   "metadata": {},
   "outputs": [],
   "source": [
    "# Definition for a binary tree node.\n",
    "# class TreeNode:\n",
    "#     def __init__(self, val=0, left=None, right=None):\n",
    "#         self.val = val\n",
    "#         self.left = left\n",
    "#         self.right = right\n",
    "class Solution:\n",
    "    def sumOfLeftLeaves(self, root: Optional[TreeNode]) -> int:\n",
    "        def helper(root, is_left):\n",
    "            if root is None:\n",
    "                return 0\n",
    "            if root.left is None and root.right is None:\n",
    "                return root.val if is_left == True else 0\n",
    "            return helper(root.left, True) + helper(root.right, False)\n",
    "        return helper(root.left, True) + helper(root.right, False)"
   ]
  },
  {
   "cell_type": "code",
   "execution_count": null,
   "id": "7eb119c8",
   "metadata": {},
   "outputs": [],
   "source": [
    "# Definition for a binary tree node.\n",
    "# class TreeNode:\n",
    "#     def __init__(self, val=0, left=None, right=None):\n",
    "#         self.val = val\n",
    "#         self.left = left\n",
    "#         self.right = right\n",
    "class Solution:\n",
    "    def sumOfLeftLeaves(self, root: Optional[TreeNode]) -> int:\n",
    "        def f(root, isLeft):\n",
    "            if not root: return 0\n",
    "            if not root.left and not root.right and isLeft: return root.val\n",
    "            return f(root.left, True)+f(root.right, False)\n",
    "        return f(root, False)\n",
    "        "
   ]
  }
 ],
 "metadata": {
  "language_info": {
   "name": "python"
  }
 },
 "nbformat": 4,
 "nbformat_minor": 5
}
