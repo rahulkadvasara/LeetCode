{
 "cells": [
  {
   "cell_type": "markdown",
   "id": "ebd01129",
   "metadata": {},
   "source": [
    "110. Balanced Binary Tree\n",
    "Easy\n",
    "\n",
    "Given a binary tree, determine if it is height-balanced.\n",
    "\n",
    "Example 1:\n",
    "Input: root = [3,9,20,null,null,15,7]\n",
    "Output: true\n",
    "\n",
    "Example 2:\n",
    "Input: root = [1,2,2,3,3,null,null,4,4]\n",
    "Output: false\n",
    "\n",
    "Example 3:\n",
    "Input: root = []\n",
    "Output: true\n",
    "\n",
    "Constraints:\n",
    "The number of nodes in the tree is in the range [0, 5000].\n",
    "-104 <= Node.val <= 104"
   ]
  },
  {
   "cell_type": "code",
   "execution_count": null,
   "id": "7ecc0a12",
   "metadata": {},
   "outputs": [],
   "source": [
    "# sol 1\n",
    "\n",
    "# Definition for a binary tree node.\n",
    "# class TreeNode:\n",
    "#     def __init__(self, val=0, left=None, right=None):\n",
    "#         self.val = val\n",
    "#         self.left = left\n",
    "#         self.right = right\n",
    "class Solution:\n",
    "    def isBalanced(self, root: Optional[TreeNode]) -> bool:\n",
    "        \n",
    "        def dfs(root):\n",
    "            if not root:\n",
    "                return [True, 0]\n",
    "            \n",
    "            left_balanced, left_height = dfs(root.left)\n",
    "            right_balanced, right_height = dfs(root.right)\n",
    "            \n",
    "            is_balanced = left_balanced and right_balanced and abs(left_height - right_height) <= 1\n",
    "            \n",
    "            return [is_balanced, 1 + max(left_height, right_height)]\n",
    "        \n",
    "        return dfs(root)[0]"
   ]
  },
  {
   "cell_type": "code",
   "execution_count": null,
   "id": "c0772681",
   "metadata": {},
   "outputs": [],
   "source": [
    "# sol 2\n",
    "\n",
    "class Solution(object):\n",
    "    def isBalanced(self, root):\n",
    "        return (self.Height(root) >= 0)\n",
    "    def Height(self, root):\n",
    "        if root is None:  return 0\n",
    "        leftheight, rightheight = self.Height(root.left), self.Height(root.right)\n",
    "        if leftheight < 0 or rightheight < 0 or abs(leftheight - rightheight) > 1:  return -1\n",
    "        return max(leftheight, rightheight) + 1"
   ]
  },
  {
   "cell_type": "code",
   "execution_count": null,
   "id": "7edce74d",
   "metadata": {},
   "outputs": [],
   "source": [
    "# sol 3\n",
    "\n",
    "# Definition for a binary tree node.\n",
    "# class TreeNode:\n",
    "#     def __init__(self, val=0, left=None, right=None):\n",
    "#         self.val = val\n",
    "#         self.left = left\n",
    "#         self.right = right\n",
    "class Solution:\n",
    "    def isBalanced(self, root: Optional[TreeNode]) -> bool:\n",
    "        def check(node):\n",
    "            if not node:\n",
    "                return 0  # Height of empty tree is 0\n",
    "\n",
    "            left = check(node.left)\n",
    "            if left == -1:\n",
    "                return -1  # Left subtree is unbalanced\n",
    "\n",
    "            right = check(node.right)\n",
    "            if right == -1:\n",
    "                return -1  # Right subtree is unbalanced\n",
    "\n",
    "            if abs(left - right) > 1:\n",
    "                return -1  # Current node is unbalanced\n",
    "\n",
    "            return max(left, right) + 1  # Height of current node\n",
    "\n",
    "        return check(root) != -1\n",
    "        "
   ]
  }
 ],
 "metadata": {
  "language_info": {
   "name": "python"
  }
 },
 "nbformat": 4,
 "nbformat_minor": 5
}
