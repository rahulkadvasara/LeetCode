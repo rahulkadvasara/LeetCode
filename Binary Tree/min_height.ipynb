{
 "cells": [
  {
   "cell_type": "markdown",
   "id": "bc05fbdc",
   "metadata": {},
   "source": [
    "111. Minimum Depth of Binary Tree\n",
    "Easy\n",
    "\n",
    "Given a binary tree, find its minimum depth.\n",
    "The minimum depth is the number of nodes along the shortest path from the root node down to the nearest leaf node.\n",
    "Note: A leaf is a node with no children.\n",
    "\n",
    "Example 1:\n",
    "Input: root = [3,9,20,null,null,15,7]\n",
    "Output: 2\n",
    "\n",
    "Example 2:\n",
    "Input: root = [2,null,3,null,4,null,5,null,6]\n",
    "Output: 5\n",
    "\n",
    "Constraints:\n",
    "The number of nodes in the tree is in the range [0, 105].\n",
    "-1000 <= Node.val <= 1000"
   ]
  },
  {
   "cell_type": "code",
   "execution_count": null,
   "id": "6357f1fc",
   "metadata": {},
   "outputs": [],
   "source": [
    "from collections import deque\n",
    "class Solution:\n",
    "    def minDepth(self, root: TreeNode) -> int:\n",
    "        if not root:\n",
    "            return 0  # If the tree is empty, return depth 0\n",
    "        \n",
    "        queue = deque([(root, 1)])  # Initialize the queue with the root node and depth 1\n",
    "        \n",
    "        while queue:\n",
    "            node, depth = queue.popleft()\n",
    "            \n",
    "            # If it's a leaf node, return the current depth\n",
    "            if not node.left and not node.right:\n",
    "                return depth\n",
    "            \n",
    "            # Add left and right children to the queue, if they exist\n",
    "            if node.left:\n",
    "                queue.append((node.left, depth + 1))\n",
    "            if node.right:\n",
    "                queue.append((node.right, depth + 1))"
   ]
  },
  {
   "cell_type": "code",
   "execution_count": null,
   "id": "93bb584a",
   "metadata": {},
   "outputs": [],
   "source": [
    "class Solution:\n",
    "    def minDepth(self, root: TreeNode) -> int:\n",
    "        # Base case...\n",
    "        # If the subtree is empty i.e. root is NULL, return depth as 0...\n",
    "        if root is None:  return 0\n",
    "        # Initialize the depth of two subtrees...\n",
    "        leftDepth = self.minDepth(root.left)\n",
    "        rightDepth = self.minDepth(root.right)\n",
    "        # If the both subtrees are empty...\n",
    "        if root.left is None and root.right is None:\n",
    "            return 1\n",
    "        # If the left subtree is empty, return the depth of right subtree after adding 1 to it...\n",
    "        if root.left is None:\n",
    "            return 1 + rightDepth\n",
    "        # If the right subtree is empty, return the depth of left subtree after adding 1 to it...\n",
    "        if root.right is None:\n",
    "            return 1 + leftDepth\n",
    "        # When the two child function return its depth...\n",
    "        # Pick the minimum out of these two subtrees and return this value after adding 1 to it...\n",
    "        return min(leftDepth, rightDepth) + 1;    # Adding 1 is the current node which is the parent of the two subtrees..."
   ]
  },
  {
   "cell_type": "code",
   "execution_count": null,
   "id": "f4f1c08a",
   "metadata": {},
   "outputs": [],
   "source": [
    "class Solution:\n",
    "    def minDepth(self, root: Optional[TreeNode]) -> int:\n",
    "        if not root:\n",
    "            return 0\n",
    "        \n",
    "        nodes = [(root, 1)]\n",
    "        for node, level in nodes:\n",
    "            if node.left is None and node.right is None:\n",
    "                return level\n",
    "            \n",
    "            if node.left:\n",
    "                nodes.append((node.left, level+1))\n",
    "\n",
    "            if node.right:\n",
    "                nodes.append((node.right, level+1))\n",
    "\n",
    "        raise ValueError"
   ]
  }
 ],
 "metadata": {
  "language_info": {
   "name": "python"
  }
 },
 "nbformat": 4,
 "nbformat_minor": 5
}
