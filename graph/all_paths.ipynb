{
 "cells": [
  {
   "cell_type": "markdown",
   "id": "1e363ef8",
   "metadata": {},
   "source": [
    "797. All Paths From Source to Target\n",
    "Solved\n",
    "Medium\n",
    "Topics\n",
    "premium lock icon\n",
    "Companies\n",
    "Given a directed acyclic graph (DAG) of n nodes labeled from 0 to n - 1, find all possible paths from node 0 to node n - 1 and return them in any order.\n",
    "\n",
    "The graph is given as follows: graph[i] is a list of all nodes you can visit from node i (i.e., there is a directed edge from node i to node graph[i][j]).\n",
    "\n",
    " \n",
    "\n",
    "Example 1:\n",
    "\n",
    "\n",
    "Input: graph = [[1,2],[3],[3],[]]\n",
    "Output: [[0,1,3],[0,2,3]]\n",
    "Explanation: There are two paths: 0 -> 1 -> 3 and 0 -> 2 -> 3.\n",
    "Example 2:\n",
    "\n",
    "\n",
    "Input: graph = [[4,3,1],[3,2,4],[3],[4],[]]\n",
    "Output: [[0,4],[0,3,4],[0,1,3,4],[0,1,2,3,4],[0,1,4]]\n",
    " \n",
    "\n",
    "Constraints:\n",
    "\n",
    "n == graph.length\n",
    "2 <= n <= 15\n",
    "0 <= graph[i][j] < n\n",
    "graph[i][j] != i (i.e., there will be no self-loops).\n",
    "All the elements of graph[i] are unique.\n",
    "The input graph is guaranteed to be a DAG."
   ]
  },
  {
   "cell_type": "code",
   "execution_count": null,
   "id": "6795879c",
   "metadata": {},
   "outputs": [],
   "source": [
    "class Solution:\n",
    "    def traverse(self, node_value, node_children, path): \n",
    "        if node_value == self.target: \n",
    "            self.valid_paths.append(path)\n",
    "\n",
    "        for child in node_children: \n",
    "            self.traverse(child, self.graph[child], path + [child])\n",
    "            \n",
    "\n",
    "    def allPathsSourceTarget(self, graph: List[List[int]]) -> List[List[int]]:\n",
    "        self.valid_paths = [] \n",
    "        self.graph = graph\n",
    "        self.target = len(graph) - 1\n",
    "\n",
    "        self.traverse(0, graph[0], [0])\n",
    "\n",
    "        return self.valid_paths"
   ]
  }
 ],
 "metadata": {
  "language_info": {
   "name": "python"
  }
 },
 "nbformat": 4,
 "nbformat_minor": 5
}
