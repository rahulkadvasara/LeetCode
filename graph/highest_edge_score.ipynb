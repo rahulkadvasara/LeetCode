{
 "cells": [
  {
   "cell_type": "markdown",
   "id": "478fc19e",
   "metadata": {},
   "source": [
    "2374. Node With Highest Edge Score\n",
    "Medium\n",
    "\n",
    "You are given a directed graph with n nodes labeled from 0 to n - 1, where each node has exactly one outgoing edge.\n",
    "The graph is represented by a given 0-indexed integer array edges of length n, where edges[i] indicates that there is a directed edge from node i to node edges[i].\n",
    "The edge score of a node i is defined as the sum of the labels of all the nodes that have an edge pointing to i.\n",
    "Return the node with the highest edge score. If multiple nodes have the same edge score, return the node with the smallest index.\n",
    "\n",
    "Example 1:\n",
    "Input: edges = [1,0,0,0,0,7,7,5]\n",
    "Output: 7\n",
    "Explanation:\n",
    "- The nodes 1, 2, 3 and 4 have an edge pointing to node 0. The edge score of node 0 is 1 + 2 + 3 + 4 = 10.\n",
    "- The node 0 has an edge pointing to node 1. The edge score of node 1 is 0.\n",
    "- The node 7 has an edge pointing to node 5. The edge score of node 5 is 7.\n",
    "- The nodes 5 and 6 have an edge pointing to node 7. The edge score of node 7 is 5 + 6 = 11.\n",
    "Node 7 has the highest edge score so return 7.\n",
    "\n",
    "Example 2:\n",
    "Input: edges = [2,0,0,2]\n",
    "Output: 0\n",
    "Explanation:\n",
    "- The nodes 1 and 2 have an edge pointing to node 0. The edge score of node 0 is 1 + 2 = 3.\n",
    "- The nodes 0 and 3 have an edge pointing to node 2. The edge score of node 2 is 0 + 3 = 3.\n",
    "Nodes 0 and 2 both have an edge score of 3. Since node 0 has a smaller index, we return 0.\n",
    "\n",
    "Constraints:\n",
    "n == edges.length\n",
    "2 <= n <= 105\n",
    "0 <= edges[i] < n\n",
    "edges[i] != i"
   ]
  },
  {
   "cell_type": "code",
   "execution_count": null,
   "id": "c8ef8146",
   "metadata": {},
   "outputs": [],
   "source": [
    "class Solution:\n",
    "    def edgeScore(self, edges: list[int]) -> int:\n",
    "        score = defaultdict(int)\n",
    "\n",
    "        for u, v in enumerate(edges):\n",
    "            score[v] += u\n",
    "\n",
    "        return max(score, key=lambda x: (score[x], -x))"
   ]
  },
  {
   "cell_type": "code",
   "execution_count": null,
   "id": "868821c7",
   "metadata": {},
   "outputs": [],
   "source": [
    "class Solution:\n",
    "    def edgeScore(self, edges: List[int]) -> int:\n",
    "        adj = [0]*len(edges)\n",
    "        \n",
    "        for i,num in enumerate(edges):\n",
    "            adj[num] += i\n",
    "\n",
    "        return adj.index(max(adj))"
   ]
  }
 ],
 "metadata": {
  "language_info": {
   "name": "python"
  }
 },
 "nbformat": 4,
 "nbformat_minor": 5
}
