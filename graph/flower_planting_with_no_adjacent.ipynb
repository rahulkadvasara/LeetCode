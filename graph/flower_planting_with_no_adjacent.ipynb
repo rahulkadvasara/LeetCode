{
 "cells": [
  {
   "cell_type": "markdown",
   "id": "c96862f6",
   "metadata": {},
   "source": [
    "1042. Flower Planting With No Adjacent\n",
    "Medium\n",
    "Topics\n",
    "premium lock icon\n",
    "Companies\n",
    "Hint\n",
    "You have n gardens, labeled from 1 to n, and an array paths where paths[i] = [xi, yi] describes a bidirectional path between garden xi to garden yi. In each garden, you want to plant one of 4 types of flowers.\n",
    "\n",
    "All gardens have at most 3 paths coming into or leaving it.\n",
    "\n",
    "Your task is to choose a flower type for each garden such that, for any two gardens connected by a path, they have different types of flowers.\n",
    "\n",
    "Return any such a choice as an array answer, where answer[i] is the type of flower planted in the (i+1)th garden. The flower types are denoted 1, 2, 3, or 4. It is guaranteed an answer exists.\n",
    "\n",
    " \n",
    "\n",
    "Example 1:\n",
    "\n",
    "Input: n = 3, paths = [[1,2],[2,3],[3,1]]\n",
    "Output: [1,2,3]\n",
    "Explanation:\n",
    "Gardens 1 and 2 have different types.\n",
    "Gardens 2 and 3 have different types.\n",
    "Gardens 3 and 1 have different types.\n",
    "Hence, [1,2,3] is a valid answer. Other valid answers include [1,2,4], [1,4,2], and [3,2,1].\n",
    "Example 2:\n",
    "\n",
    "Input: n = 4, paths = [[1,2],[3,4]]\n",
    "Output: [1,2,1,2]\n",
    "Example 3:\n",
    "\n",
    "Input: n = 4, paths = [[1,2],[2,3],[3,4],[4,1],[1,3],[2,4]]\n",
    "Output: [1,2,3,4]\n",
    " \n",
    "\n",
    "Constraints:\n",
    "\n",
    "1 <= n <= 104\n",
    "0 <= paths.length <= 2 * 104\n",
    "paths[i].length == 2\n",
    "1 <= xi, yi <= n\n",
    "xi != yi\n",
    "Every garden has at most 3 paths coming into or leaving it."
   ]
  },
  {
   "cell_type": "code",
   "execution_count": null,
   "id": "4db8ad97",
   "metadata": {},
   "outputs": [],
   "source": [
    "class Solution:\n",
    "    def gardenNoAdj(self, n: int, paths: List[List[int]]) -> List[int]:\n",
    "        neighbors = defaultdict(list)\n",
    "        for a,b in paths:\n",
    "            neighbors[a].append(b)\n",
    "            neighbors[b].append(a)\n",
    "        ans = [0]*n\n",
    "\n",
    "        for i in range(1,n+1):\n",
    "            available = {1,2,3,4}\n",
    "            for nei in neighbors[i]:\n",
    "                if ans[nei-1] in available:\n",
    "                    available.remove(ans[nei-1])\n",
    "            ans[i-1] = available.pop()\n",
    "        return ans"
   ]
  },
  {
   "cell_type": "code",
   "execution_count": null,
   "id": "316c6255",
   "metadata": {},
   "outputs": [],
   "source": [
    "class Solution:\n",
    "    def gardenNoAdj(self, n: int, paths: List[List[int]]) -> List[int]:\n",
    "        neighbours = [[] for _ in range(n)]\n",
    "        for u, v in paths:\n",
    "            neighbours[u - 1].append(v - 1)\n",
    "            neighbours[v - 1].append(u - 1)\n",
    "        flowers = [0] * n\n",
    "        for garden in range(n):\n",
    "            available = {1, 2, 3, 4}\n",
    "            for neighbour in neighbours[garden]:\n",
    "                if flowers[neighbour] in available:\n",
    "                    available.remove(flowers[neighbour])\n",
    "            flowers[garden] = available.pop()\n",
    "        return flowers"
   ]
  }
 ],
 "metadata": {
  "language_info": {
   "name": "python"
  }
 },
 "nbformat": 4,
 "nbformat_minor": 5
}
