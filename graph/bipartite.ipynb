{
 "cells": [
  {
   "cell_type": "markdown",
   "id": "ea01bd62",
   "metadata": {},
   "source": [
    "785. Is Graph Bipartite?\n",
    "Medium\n",
    "\n",
    "There is an undirected graph with n nodes, where each node is numbered between 0 and n - 1. You are given a 2D array graph, where graph[u] is an array of nodes that node u is adjacent to. More formally, for each v in graph[u], there is an undirected edge between node u and node v. The graph has the following properties:\n",
    "There are no self-edges (graph[u] does not contain u).\n",
    "There are no parallel edges (graph[u] does not contain duplicate values).\n",
    "If v is in graph[u], then u is in graph[v] (the graph is undirected).\n",
    "The graph may not be connected, meaning there may be two nodes u and v such that there is no path between them.\n",
    "A graph is bipartite if the nodes can be partitioned into two independent sets A and B such that every edge in the graph connects a node in set A and a node in set B.\n",
    "Return true if and only if it is bipartite.\n",
    "\n",
    "Example 1:\n",
    "Input: graph = [[1,2,3],[0,2],[0,1,3],[0,2]]\n",
    "Output: false\n",
    "Explanation: There is no way to partition the nodes into two independent sets such that every edge connects a node in one and a node in the other.\n",
    "\n",
    "Example 2:\n",
    "Input: graph = [[1,3],[0,2],[1,3],[0,2]]\n",
    "Output: true\n",
    "Explanation: We can partition the nodes into two sets: {0, 2} and {1, 3}.\n",
    "\n",
    "Constraints:\n",
    "graph.length == n\n",
    "1 <= n <= 100\n",
    "0 <= graph[u].length < n\n",
    "0 <= graph[u][i] <= n - 1\n",
    "graph[u] does not contain u.\n",
    "All the values of graph[u] are unique.\n",
    "If graph[u] contains v, then graph[v] contains u."
   ]
  },
  {
   "cell_type": "code",
   "execution_count": null,
   "id": "1ae72e1a",
   "metadata": {},
   "outputs": [],
   "source": [
    "class Solution:\n",
    "    def isBipartite(self, graph: List[List[int]]) -> bool:\n",
    "        n = len(graph)\n",
    "        color = [-1] * n\n",
    "\n",
    "        def dfs(node: int, c: int) -> bool:\n",
    "            color[node] = c\n",
    "            for nei in graph[node]:\n",
    "                if color[nei] == -1:\n",
    "                    if not dfs(nei, 1 - c):\n",
    "                        return False\n",
    "                elif color[nei] == color[node]:\n",
    "                    return False\n",
    "            return True\n",
    "        \n",
    "        for i in range(n):\n",
    "            if color[i] == -1:\n",
    "                if not dfs(i, 0):\n",
    "                    return False\n",
    "        return True"
   ]
  }
 ],
 "metadata": {
  "language_info": {
   "name": "python"
  }
 },
 "nbformat": 4,
 "nbformat_minor": 5
}
