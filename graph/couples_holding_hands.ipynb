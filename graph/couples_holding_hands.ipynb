{
 "cells": [
  {
   "cell_type": "markdown",
   "id": "f5cda4c5",
   "metadata": {},
   "source": [
    "765. Couples Holding Hands\n",
    "Hard\n",
    "Topics\n",
    "premium lock icon\n",
    "Companies\n",
    "Hint\n",
    "There are n couples sitting in 2n seats arranged in a row and want to hold hands.\n",
    "\n",
    "The people and seats are represented by an integer array row where row[i] is the ID of the person sitting in the ith seat. The couples are numbered in order, the first couple being (0, 1), the second couple being (2, 3), and so on with the last couple being (2n - 2, 2n - 1).\n",
    "\n",
    "Return the minimum number of swaps so that every couple is sitting side by side. A swap consists of choosing any two people, then they stand up and switch seats.\n",
    "\n",
    " \n",
    "\n",
    "Example 1:\n",
    "\n",
    "Input: row = [0,2,1,3]\n",
    "Output: 1\n",
    "Explanation: We only need to swap the second (row[1]) and third (row[2]) person.\n",
    "Example 2:\n",
    "\n",
    "Input: row = [3,2,0,1]\n",
    "Output: 0\n",
    "Explanation: All couples are already seated side by side.\n",
    " \n",
    "\n",
    "Constraints:\n",
    "\n",
    "2n == row.length\n",
    "2 <= n <= 30\n",
    "n is even.\n",
    "0 <= row[i] < 2n\n",
    "All the elements of row are unique."
   ]
  },
  {
   "cell_type": "code",
   "execution_count": null,
   "id": "da929b1a",
   "metadata": {},
   "outputs": [],
   "source": [
    "class Solution:\n",
    "    def minSwapsCouples(self, row: List[int]) -> int:\n",
    "        \n",
    "        def find(x):\n",
    "            if parent[x] != x:\n",
    "                parent[x] = find(parent[x])\n",
    "            return parent[x]\n",
    "        \n",
    "        def union(x, y):\n",
    "            rootX = find(x)\n",
    "            rootY = find(y)\n",
    "            if rootX != rootY:\n",
    "                parent[rootX] = rootY\n",
    "\n",
    "        n = len(row) // 2\n",
    "        parent = [i for i in range(n)]\n",
    "        \n",
    "        for i in range(0, len(row), 2):\n",
    "            union(row[i] // 2, row[i+1] // 2)\n",
    "        \n",
    "        count = sum([1 for i, x in enumerate(parent) if i == find(x)])\n",
    "        return n - count"
   ]
  }
 ],
 "metadata": {
  "language_info": {
   "name": "python"
  }
 },
 "nbformat": 4,
 "nbformat_minor": 5
}
