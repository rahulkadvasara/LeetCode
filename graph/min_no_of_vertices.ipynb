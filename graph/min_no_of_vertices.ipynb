{
 "cells": [
  {
   "cell_type": "markdown",
   "id": "c4ebd6f4",
   "metadata": {},
   "source": [
    "1557. Minimum Number of Vertices to Reach All Nodes\n",
    "Medium\n",
    "Topics\n",
    "premium lock icon\n",
    "Companies\n",
    "Hint\n",
    "Given a directed acyclic graph, with n vertices numbered from 0 to n-1, and an array edges where edges[i] = [fromi, toi] represents a directed edge from node fromi to node toi.\n",
    "\n",
    "Find the smallest set of vertices from which all nodes in the graph are reachable. It's guaranteed that a unique solution exists.\n",
    "\n",
    "Notice that you can return the vertices in any order.\n",
    "\n",
    " \n",
    "\n",
    "Example 1:\n",
    "\n",
    "\n",
    "\n",
    "Input: n = 6, edges = [[0,1],[0,2],[2,5],[3,4],[4,2]]\n",
    "Output: [0,3]\n",
    "Explanation: It's not possible to reach all the nodes from a single vertex. From 0 we can reach [0,1,2,5]. From 3 we can reach [3,4,2,5]. So we output [0,3].\n",
    "Example 2:\n",
    "\n",
    "\n",
    "\n",
    "Input: n = 5, edges = [[0,1],[2,1],[3,1],[1,4],[2,4]]\n",
    "Output: [0,2,3]\n",
    "Explanation: Notice that vertices 0, 3 and 2 are not reachable from any other node, so we must include them. Also any of these vertices can reach nodes 1 and 4.\n",
    " \n",
    "\n",
    "Constraints:\n",
    "\n",
    "2 <= n <= 10^5\n",
    "1 <= edges.length <= min(10^5, n * (n - 1) / 2)\n",
    "edges[i].length == 2\n",
    "0 <= fromi, toi < n\n",
    "All pairs (fromi, toi) are distinct."
   ]
  },
  {
   "cell_type": "code",
   "execution_count": null,
   "id": "5f6655d6",
   "metadata": {},
   "outputs": [],
   "source": [
    "class Solution:\n",
    "    def findSmallestSetOfVertices(self, n: int, edges: List[List[int]]) -> List[int]:\n",
    "        \n",
    "        connected = set()\n",
    "        for u, v in edges:\n",
    "            if v not in connected:\n",
    "                connected.add(v)\n",
    "        \n",
    "        res = []\n",
    "        for i in range(n):\n",
    "            if i not in connected:\n",
    "                res.append(i)\n",
    "        return res\n",
    "            "
   ]
  },
  {
   "cell_type": "code",
   "execution_count": null,
   "id": "521405c0",
   "metadata": {},
   "outputs": [],
   "source": [
    "class Solution:\n",
    "    def findSmallestSetOfVertices(self, n: int, edges: List[List[int]]) -> List[int]:\n",
    "        indegrees = [0] * n\n",
    "        for _, y in edges:\n",
    "            indegrees[y] += 1\n",
    "        \n",
    "        res = []\n",
    "        for node in range(n):\n",
    "            if indegrees[node] == 0:\n",
    "                res.append(node)\n",
    "\n",
    "        return res"
   ]
  }
 ],
 "metadata": {
  "language_info": {
   "name": "python"
  }
 },
 "nbformat": 4,
 "nbformat_minor": 5
}
