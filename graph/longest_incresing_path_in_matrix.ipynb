{
 "cells": [
  {
   "cell_type": "markdown",
   "id": "c7da03f7",
   "metadata": {},
   "source": [
    "329. Longest Increasing Path in a Matrix\n",
    "Hard\n",
    "\n",
    "Given an m x n integers matrix, return the length of the longest increasing path in matrix.\n",
    "From each cell, you can either move in four directions: left, right, up, or down. You may not move diagonally or move outside the boundary (i.e., wrap-around is not allowed).\n",
    "\n",
    "Example 1:\n",
    "Input: matrix = [[9,9,4],[6,6,8],[2,1,1]]\n",
    "Output: 4\n",
    "Explanation: The longest increasing path is [1, 2, 6, 9].\n",
    "\n",
    "Example 2:\n",
    "Input: matrix = [[3,4,5],[3,2,6],[2,2,1]]\n",
    "Output: 4\n",
    "Explanation: The longest increasing path is [3, 4, 5, 6]. Moving diagonally is not allowed.\n",
    "\n",
    "Example 3:\n",
    "Input: matrix = [[1]]\n",
    "Output: 1\n",
    "\n",
    "Constraints:\n",
    "m == matrix.length\n",
    "n == matrix[i].length\n",
    "1 <= m, n <= 200\n",
    "0 <= matrix[i][j] <= 231 - 1"
   ]
  },
  {
   "cell_type": "code",
   "execution_count": null,
   "id": "68120732",
   "metadata": {},
   "outputs": [],
   "source": [
    "class Solution:\n",
    "    def longestIncreasingPath(self, matrix: List[List[int]]) -> int:\n",
    "        out = 0\n",
    "        m = len(matrix); n = len(matrix[0])\n",
    "        dire = [[1, 0], [-1, 0], [0, 1], [0, -1]]\n",
    "        dp = [[0 for _ in range(n)] for f in range(m)]\n",
    "        def dfs(i, j):\n",
    "            res = 1\n",
    "            if dp[i][j] != 0:\n",
    "                return dp[i][j]\n",
    "            for d in dire:\n",
    "                newi, newj = i + d[0], j + d[1]\n",
    "                if newi >= 0 and newi < m and newj >= 0 and newj < n and matrix[newi][newj] > matrix[i][j]:\n",
    "                    res = max(res, 1 + dfs(newi, newj))\n",
    "            dp[i][j] = res\n",
    "            return res\n",
    "        for i in range(m):\n",
    "            for j in range(n):\n",
    "                out = max(out, dfs(i, j))\n",
    "        return out"
   ]
  },
  {
   "cell_type": "code",
   "execution_count": null,
   "id": "e3f7e3de",
   "metadata": {},
   "outputs": [],
   "source": [
    "class Solution:\n",
    "    def longestIncreasingPath(self, matrix: List[List[int]]) -> int:\n",
    "        if not matrix or not matrix[0]:\n",
    "            return 0\n",
    "        rows, cols = len(matrix), len(matrix[0])\n",
    "        dp =[[0] * cols for i in range(rows)]\n",
    "        def dfs(i, j):\n",
    "            if not dp[i][j]:\n",
    "                val = matrix[i][j]\n",
    "                dp[i][j] = 1 + max(\n",
    "                    dfs(i - 1, j) if i and val > matrix[i - 1][j] else 0,\n",
    "                    dfs(i + 1, j) if i < rows - 1 and val > matrix[i + 1][j] else 0,\n",
    "                    dfs(i, j - 1) if j and val > matrix[i][j - 1] else 0,\n",
    "                    dfs(i, j + 1) if j < cols - 1 and val > matrix[i][j + 1] else 0)\n",
    "            return dp[i][j]\n",
    "        \n",
    "        for r in range(rows):\n",
    "            for c in range(cols):\n",
    "                dfs(r,c)\n",
    "        return max(max(x) for x in dp)"
   ]
  }
 ],
 "metadata": {
  "language_info": {
   "name": "python"
  }
 },
 "nbformat": 4,
 "nbformat_minor": 5
}
