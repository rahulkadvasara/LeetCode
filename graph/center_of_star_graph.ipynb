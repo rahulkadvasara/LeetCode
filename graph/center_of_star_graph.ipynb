{
 "cells": [
  {
   "cell_type": "markdown",
   "id": "8954733e",
   "metadata": {},
   "source": [
    "1791. Find Center of Star Graph\n",
    "Easy\n",
    "\n",
    "There is an undirected star graph consisting of n nodes labeled from 1 to n. A star graph is a graph where there is one center node and exactly n - 1 edges that connect the center node with every other node.\n",
    "You are given a 2D integer array edges where each edges[i] = [ui, vi] indicates that there is an edge between the nodes ui and vi. Return the center of the given star graph.\n",
    "\n",
    "Example 1:\n",
    "Input: edges = [[1,2],[2,3],[4,2]]\n",
    "Output: 2\n",
    "Explanation: As shown in the figure above, node 2 is connected to every other node, so 2 is the center.\n",
    "\n",
    "Example 2:\n",
    "Input: edges = [[1,2],[5,1],[1,3],[1,4]]\n",
    "Output: 1\n",
    "\n",
    "Constraints:\n",
    "3 <= n <= 105\n",
    "edges.length == n - 1\n",
    "edges[i].length == 2\n",
    "1 <= ui, vi <= n\n",
    "ui != vi\n",
    "The given edges represent a valid star graph."
   ]
  },
  {
   "cell_type": "code",
   "execution_count": null,
   "id": "515560e2",
   "metadata": {},
   "outputs": [],
   "source": [
    "class Solution:\n",
    "    def findCenter(self, edges: List[List[int]]) -> int:\n",
    "        from collections import defaultdict\n",
    "        graph = defaultdict(list)\n",
    "        for i,j in edges:\n",
    "            graph[i].append(j)\n",
    "            graph[j].append(i)\n",
    "        \n",
    "        for node, count in graph.items():\n",
    "            if len(count) == len(edges):\n",
    "                return node\n",
    "        \n",
    "        return -1"
   ]
  },
  {
   "cell_type": "code",
   "execution_count": null,
   "id": "33f54460",
   "metadata": {},
   "outputs": [],
   "source": [
    "class Solution:\n",
    "    def findCenter(self, edges: List[List[int]]) -> int:\n",
    "        a, b = edges[0]\n",
    "        c, d = edges[1]\n",
    "\n",
    "        if a==c or a==d:\n",
    "            return a\n",
    "        return b"
   ]
  },
  {
   "cell_type": "code",
   "execution_count": null,
   "id": "7e294c55",
   "metadata": {},
   "outputs": [],
   "source": [
    "class Solution:\n",
    "    def findCenter(self, edges: List[List[int]]) -> int:\n",
    "        degree = {}\n",
    "\n",
    "        for edge in edges:\n",
    "            degree[edge[0]] = degree.get(edge[0], 0) + 1\n",
    "            degree[edge[1]] = degree.get(edge[1], 0) + 1\n",
    "\n",
    "        for node, count in degree.items():\n",
    "            if count == len(edges):\n",
    "                return node\n",
    "\n",
    "        return -1"
   ]
  },
  {
   "cell_type": "code",
   "execution_count": null,
   "id": "48ad6f3c",
   "metadata": {},
   "outputs": [],
   "source": [
    "class Solution:\n",
    "    def findCenter(self, edges: List[List[int]]) -> int:\n",
    "        first_edge, second_edge = edges[0], edges[1]\n",
    "\n",
    "        return first_edge[0] if first_edge[0] in second_edge else first_edge[1]"
   ]
  }
 ],
 "metadata": {
  "language_info": {
   "name": "python"
  }
 },
 "nbformat": 4,
 "nbformat_minor": 5
}
