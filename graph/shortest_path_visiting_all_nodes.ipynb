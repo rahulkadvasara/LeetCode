{
 "cells": [
  {
   "cell_type": "markdown",
   "id": "80f78ca8",
   "metadata": {},
   "source": [
    "847. Shortest Path Visiting All Nodes\n",
    "Hard\n",
    "Topics\n",
    "premium lock icon\n",
    "Companies\n",
    "You have an undirected, connected graph of n nodes labeled from 0 to n - 1. You are given an array graph where graph[i] is a list of all the nodes connected with node i by an edge.\n",
    "\n",
    "Return the length of the shortest path that visits every node. You may start and stop at any node, you may revisit nodes multiple times, and you may reuse edges.\n",
    "\n",
    " \n",
    "\n",
    "Example 1:\n",
    "\n",
    "\n",
    "Input: graph = [[1,2,3],[0],[0],[0]]\n",
    "Output: 4\n",
    "Explanation: One possible path is [1,0,2,0,3]\n",
    "Example 2:\n",
    "\n",
    "\n",
    "Input: graph = [[1],[0,2,4],[1,3,4],[2],[1,2]]\n",
    "Output: 4\n",
    "Explanation: One possible path is [0,1,4,2,3]\n",
    " \n",
    "\n",
    "Constraints:\n",
    "\n",
    "n == graph.length\n",
    "1 <= n <= 12\n",
    "0 <= graph[i].length < n\n",
    "graph[i] does not contain i.\n",
    "If graph[a] contains b, then graph[b] contains a.\n",
    "The input graph is always connected."
   ]
  },
  {
   "cell_type": "code",
   "execution_count": null,
   "id": "65343f0b",
   "metadata": {},
   "outputs": [],
   "source": [
    "class Solution:\n",
    "    def shortestPathLength(self, graph: List[List[int]]) -> int:\n",
    "        n = len(graph)\n",
    "        queue = deque([(1 << i, i, 0) for i in range(n)])\n",
    "        visited = set((1 << i, i) for i in range(n))\n",
    "        \n",
    "        while queue:\n",
    "            mask, node, dist = queue.popleft()\n",
    "            if mask == (1 << n) - 1:\n",
    "                return dist\n",
    "            for neighbor in graph[node]:\n",
    "                new_mask = mask | (1 << neighbor)\n",
    "                if (new_mask, neighbor) not in visited:\n",
    "                    visited.add((new_mask, neighbor))\n",
    "                    queue.append((new_mask, neighbor, dist + 1))"
   ]
  },
  {
   "cell_type": "code",
   "execution_count": null,
   "id": "a1a4e810",
   "metadata": {},
   "outputs": [],
   "source": [
    "class Solution:\n",
    "    def shortestPathLength(self, graph: List[List[int]]) -> int:\n",
    "        n = len(graph)\n",
    "        all_visited = (1 << n) - 1\n",
    "        queue = deque()\n",
    "        visited = [[False]*(1 << n) for  _ in range(n)]\n",
    "        for i in range(n):\n",
    "            queue.append((i, 1 << i,0))\n",
    "            visited[i][1 << i] = True\n",
    "\n",
    "        while queue:\n",
    "            node,mask,steps = queue.popleft()\n",
    "            if mask == all_visited:\n",
    "                return steps\n",
    "            for nei in graph[node]:\n",
    "                next_mask = mask | (1 << nei)\n",
    "                if not visited[nei][next_mask]:\n",
    "                    visited[nei][next_mask] = True\n",
    "                    queue.append((nei,next_mask,steps+1))\n",
    "        \n",
    "\n",
    "        return -1"
   ]
  }
 ],
 "metadata": {
  "language_info": {
   "name": "python"
  }
 },
 "nbformat": 4,
 "nbformat_minor": 5
}
