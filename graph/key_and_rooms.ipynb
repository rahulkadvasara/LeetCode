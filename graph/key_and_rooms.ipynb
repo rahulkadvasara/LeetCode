{
 "cells": [
  {
   "cell_type": "markdown",
   "id": "f61ce3fe",
   "metadata": {},
   "source": [
    "841. Keys and Rooms\n",
    "Medium\n",
    "\n",
    "There are n rooms labeled from 0 to n - 1 and all the rooms are locked except for room 0. Your goal is to visit all the rooms. However, you cannot enter a locked room without having its key.\n",
    "When you visit a room, you may find a set of distinct keys in it. Each key has a number on it, denoting which room it unlocks, and you can take all of them with you to unlock the other rooms.\n",
    "Given an array rooms where rooms[i] is the set of keys that you can obtain if you visited room i, return true if you can visit all the rooms, or false otherwise.\n",
    "\n",
    "Example 1:\n",
    "Input: rooms = [[1],[2],[3],[]]\n",
    "Output: true\n",
    "Explanation: \n",
    "We visit room 0 and pick up key 1.\n",
    "We then visit room 1 and pick up key 2.\n",
    "We then visit room 2 and pick up key 3.\n",
    "We then visit room 3.\n",
    "Since we were able to visit every room, we return true.\n",
    "\n",
    "Example 2:\n",
    "Input: rooms = [[1,3],[3,0,1],[2],[0]]\n",
    "Output: false\n",
    "Explanation: We can not enter room number 2 since the only key that unlocks it is in that room.\n",
    "\n",
    "Constraints:\n",
    "n == rooms.length\n",
    "2 <= n <= 1000\n",
    "0 <= rooms[i].length <= 1000\n",
    "1 <= sum(rooms[i].length) <= 3000\n",
    "0 <= rooms[i][j] < n\n",
    "All the values of rooms[i] are unique."
   ]
  },
  {
   "cell_type": "code",
   "execution_count": null,
   "id": "9dffec75",
   "metadata": {},
   "outputs": [],
   "source": [
    "class Solution:\n",
    "    def canVisitAllRooms(self, rooms: List[List[int]]) -> bool:\n",
    "        keys = rooms[0]\n",
    "        s = {0,}\n",
    "\n",
    "        while keys:\n",
    "            key = keys.pop()\n",
    "\n",
    "            if key not in s:\n",
    "                s.add(key)\n",
    "                keys += rooms[key]\n",
    "\n",
    "        return len(s) == len(rooms)"
   ]
  },
  {
   "cell_type": "code",
   "execution_count": null,
   "id": "a3b0b22b",
   "metadata": {},
   "outputs": [],
   "source": []
  }
 ],
 "metadata": {
  "language_info": {
   "name": "python"
  }
 },
 "nbformat": 4,
 "nbformat_minor": 5
}
