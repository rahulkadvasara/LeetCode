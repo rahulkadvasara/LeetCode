{
 "cells": [
  {
   "cell_type": "markdown",
   "id": "372543c0",
   "metadata": {},
   "source": [
    "349. Intersection of Two Arrays\n",
    "Easy\n",
    "\n",
    "Given two integer arrays nums1 and nums2, return an array of their intersection. Each element in the result must be unique and you may return the result in any order.\n",
    "\n",
    "Example 1:\n",
    "Input: nums1 = [1,2,2,1], nums2 = [2,2]\n",
    "Output: [2]\n",
    "\n",
    "Example 2:\n",
    "Input: nums1 = [4,9,5], nums2 = [9,4,9,8,4]\n",
    "Output: [9,4]\n",
    "Explanation: [4,9] is also accepted.\n",
    "\n",
    "Constraints:\n",
    "1 <= nums1.length, nums2.length <= 1000\n",
    "0 <= nums1[i], nums2[i] <= 1000"
   ]
  },
  {
   "cell_type": "code",
   "execution_count": null,
   "id": "f7fb63dd",
   "metadata": {},
   "outputs": [],
   "source": [
    "class Solution:\n",
    "    def intersection(self, nums1: List[int], nums2: List[int]) -> List[int]:\n",
    "        nums1.sort()\n",
    "        nums2.sort()\n",
    "\n",
    "        n=len(nums1)\n",
    "        m=len(nums2)\n",
    "        i=j=0\n",
    "        op=set()\n",
    "\n",
    "        while i<n and j<m:\n",
    "            if nums1[i]==nums2[j]:\n",
    "                op.add(nums1[i])\n",
    "                i+=1\n",
    "                j+=1\n",
    "            elif nums1[i]<nums2[j]:\n",
    "                i+=1\n",
    "            else:\n",
    "                j+=1\n",
    "        res=[]\n",
    "        for e in op:\n",
    "            res.append(e)\n",
    "        \n",
    "        return res"
   ]
  },
  {
   "cell_type": "code",
   "execution_count": null,
   "id": "8d25ca88",
   "metadata": {},
   "outputs": [],
   "source": [
    "class Solution:\n",
    "    def intersection(self, nums1: List[int], nums2: List[int]) -> List[int]:\n",
    "        s1=set(nums1)\n",
    "        s2=set(nums2)\n",
    "        return list(s1&s2)"
   ]
  },
  {
   "cell_type": "code",
   "execution_count": null,
   "id": "369d143d",
   "metadata": {},
   "outputs": [],
   "source": [
    "class Solution:\n",
    "    def intersection(self, nums1: List[int], nums2: List[int]) -> List[int]:\n",
    "        s1=set(nums1)\n",
    "        s2=set(nums2)\n",
    "        op=[]\n",
    "        if len(s1)<len(s2):\n",
    "            for x in s1:\n",
    "                if x in s2:\n",
    "                    op.append(x)\n",
    "        else:\n",
    "            for x in s2:\n",
    "                if x in s1:\n",
    "                    op.append(x)\n",
    "        \n",
    "        return op\n"
   ]
  },
  {
   "cell_type": "code",
   "execution_count": null,
   "id": "705f222e",
   "metadata": {},
   "outputs": [],
   "source": [
    "class Solution:\n",
    "    def set_intersection(self, set1, set2):\n",
    "        return [x for x in set1 if x in set2]\n",
    "        \n",
    "    def intersection(self, nums1: List[int], nums2: List[int]) -> List[int]:\n",
    "        set1 = set(nums1)\n",
    "        set2 = set(nums2)\n",
    "        \n",
    "        if len(set1) < len(set2):\n",
    "            return self.set_intersection(set1, set2)\n",
    "        else:\n",
    "            return self.set_intersection(set2, set1)"
   ]
  },
  {
   "cell_type": "code",
   "execution_count": null,
   "id": "43c8fa4e",
   "metadata": {},
   "outputs": [],
   "source": [
    "class Solution:\n",
    "    def intersection(self, nums1: List[int], nums2: List[int]) -> List[int]:\n",
    "        d={}\n",
    "        op=[]\n",
    "        for i in nums1:\n",
    "            d[i] = 1\n",
    "        for j in nums2:\n",
    "            if j in d and d[j]==1:\n",
    "                op.append(j)\n",
    "                d[j]=0\n",
    "        return op\n"
   ]
  }
 ],
 "metadata": {
  "language_info": {
   "name": "python"
  }
 },
 "nbformat": 4,
 "nbformat_minor": 5
}
