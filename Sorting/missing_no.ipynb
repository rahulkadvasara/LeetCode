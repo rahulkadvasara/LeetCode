{
 "cells": [
  {
   "cell_type": "markdown",
   "id": "fb9efd5d",
   "metadata": {},
   "source": [
    "268. Missing Number\n",
    "Easy\n",
    "\n",
    "Given an array nums containing n distinct numbers in the range [0, n], return the only number in the range that is missing from the array.\n",
    "\n",
    "Example 1:\n",
    "Input: nums = [3,0,1]\n",
    "Output: 2\n",
    "Explanation:\n",
    "n = 3 since there are 3 numbers, so all numbers are in the range [0,3]. 2 is the missing number in the range since it does not appear in nums.\n",
    "\n",
    "Example 2:\n",
    "Input: nums = [0,1]\n",
    "Output: 2\n",
    "Explanation:\n",
    "n = 2 since there are 2 numbers, so all numbers are in the range [0,2]. 2 is the missing number in the range since it does not appear in nums.\n",
    "\n",
    "Example 3:\n",
    "Input: nums = [9,6,4,2,3,5,7,0,1]\n",
    "Output: 8\n",
    "Explanation:\n",
    "n = 9 since there are 9 numbers, so all numbers are in the range [0,9]. 8 is the missing number in the range since it does not appear in nums.\n",
    " \n",
    "Constraints:\n",
    "n == nums.length\n",
    "1 <= n <= 104\n",
    "0 <= nums[i] <= n\n",
    "All the numbers of nums are unique.\n",
    " \n",
    "Follow up: Could you implement a solution using only O(1) extra space complexity and O(n) runtime complexity?"
   ]
  },
  {
   "cell_type": "code",
   "execution_count": null,
   "id": "35835fc9",
   "metadata": {},
   "outputs": [],
   "source": [
    "class Solution:\n",
    "    def missingNumber(self, nums: List[int]) -> int:\n",
    "        res = len(nums)\n",
    "\n",
    "        for i in range(len(nums)):\n",
    "            res += i - nums[i]\n",
    "        \n",
    "        return res"
   ]
  },
  {
   "cell_type": "code",
   "execution_count": null,
   "id": "5aac2d29",
   "metadata": {},
   "outputs": [],
   "source": [
    "class Solution:\n",
    "    def missingNumber(self, nums: List[int]) -> int:\n",
    "        nums.sort()\n",
    "        if len(nums)==1 and nums[0]==0:\n",
    "            return nums[0]+1\n",
    "        elif len(nums)==1 or nums[0]!=0:\n",
    "            return 0\n",
    "        for x in range(1,len(nums)):\n",
    "            if nums[x]==nums[x-1]+1:\n",
    "                continue\n",
    "            else:\n",
    "                return nums[x-1]+1 \n",
    "        else:\n",
    "            return nums[x]+1"
   ]
  },
  {
   "cell_type": "code",
   "execution_count": null,
   "id": "2da1020c",
   "metadata": {},
   "outputs": [],
   "source": [
    "class Solution:\n",
    "    def missingNumber(self, nums: List[int]) -> int:\n",
    "        n = len(nums)\n",
    "        v = [-1] * (n + 1)\n",
    "        for num in nums:\n",
    "            v[num] = num\n",
    "        for i in range(len(v)):\n",
    "            if v[i] == -1:\n",
    "                return i\n",
    "        return 0\n"
   ]
  },
  {
   "cell_type": "code",
   "execution_count": null,
   "id": "067e6e44",
   "metadata": {},
   "outputs": [],
   "source": [
    "class Solution:\n",
    "    def missingNumber(self, nums: List[int]) -> int:\n",
    "        n = len(nums)\n",
    "        ans = 0\n",
    "        for i in range(1, n + 1):\n",
    "            ans ^= i\n",
    "        for num in nums:\n",
    "            ans ^= num\n",
    "        return ans\n"
   ]
  },
  {
   "cell_type": "code",
   "execution_count": null,
   "id": "152f81a7",
   "metadata": {},
   "outputs": [],
   "source": [
    "class Solution:\n",
    "    def missingNumber(self, nums: List[int]) -> int:\n",
    "        n = len(nums)\n",
    "        Tsum = (n * (n + 1)) // 2\n",
    "        actual_sum = sum(nums)\n",
    "        return Tsum - actual_sum\n"
   ]
  },
  {
   "cell_type": "code",
   "execution_count": null,
   "id": "89c99b4d",
   "metadata": {},
   "outputs": [],
   "source": [
    "class Solution:\n",
    "    def missingNumber(self, nums: List[int]) -> int:\n",
    "        nums.sort()\n",
    "        n = len(nums)\n",
    "        \n",
    "        # Case 1\n",
    "        if nums[0] != 0:\n",
    "            return 0\n",
    "        \n",
    "        # Case 2\n",
    "        if nums[-1] != n:\n",
    "            return n\n",
    "        \n",
    "        # Case 3\n",
    "        for i in range(1, len(nums)):\n",
    "            if nums[i] != i:\n",
    "                return i\n",
    "        \n",
    "        return 0\n"
   ]
  },
  {
   "cell_type": "code",
   "execution_count": null,
   "metadata": {},
   "outputs": [],
   "source": []
  }
 ],
 "metadata": {
  "language_info": {
   "name": "python"
  }
 },
 "nbformat": 4,
 "nbformat_minor": 5
}
