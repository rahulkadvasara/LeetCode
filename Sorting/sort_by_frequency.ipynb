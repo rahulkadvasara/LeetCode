{
 "cells": [
  {
   "cell_type": "markdown",
   "id": "71e82382",
   "metadata": {},
   "source": [
    "451. Sort Characters By Frequency\n",
    "Medium\n",
    "\n",
    "Given a string s, sort it in decreasing order based on the frequency of the characters. The frequency of a character is the number of times it appears in the string.\n",
    "Return the sorted string. If there are multiple answers, return any of them.\n",
    "\n",
    "Example 1:\n",
    "Input: s = \"tree\"\n",
    "Output: \"eert\"\n",
    "Explanation: 'e' appears twice while 'r' and 't' both appear once.\n",
    "So 'e' must appear before both 'r' and 't'. Therefore \"eetr\" is also a valid answer.\n",
    "\n",
    "Example 2:\n",
    "Input: s = \"cccaaa\"\n",
    "Output: \"aaaccc\"\n",
    "Explanation: Both 'c' and 'a' appear three times, so both \"cccaaa\" and \"aaaccc\" are valid answers.\n",
    "Note that \"cacaca\" is incorrect, as the same characters must be together.\n",
    "\n",
    "Example 3:\n",
    "Input: s = \"Aabb\"\n",
    "Output: \"bbAa\"\n",
    "Explanation: \"bbaA\" is also a valid answer, but \"Aabb\" is incorrect.\n",
    "Note that 'A' and 'a' are treated as two different characters.\n",
    "\n",
    "Constraints:\n",
    "1 <= s.length <= 5 * 105\n",
    "s consists of uppercase and lowercase English letters and digits."
   ]
  },
  {
   "cell_type": "code",
   "execution_count": null,
   "id": "16ee8bdb",
   "metadata": {},
   "outputs": [],
   "source": [
    "class Solution(object):\n",
    "    def frequencySort(self, s):\n",
    "        from collections import Counter\n",
    "        return ''.join(char * freq for char, freq in Counter(s).most_common())"
   ]
  },
  {
   "cell_type": "code",
   "execution_count": null,
   "id": "0ce89aba",
   "metadata": {},
   "outputs": [],
   "source": [
    "class Solution:\n",
    "    def frequencySort(self, s: str) -> str:\n",
    "        counter = Counter(s)\n",
    "        pq = [(-freq, char) for char, freq in counter.items()]\n",
    "        heapq.heapify(pq)\n",
    "        result = ''\n",
    "        while pq:\n",
    "            freq, char = heapq.heappop(pq)\n",
    "            result += char * -freq\n",
    "        return result\n",
    "\n"
   ]
  },
  {
   "cell_type": "code",
   "execution_count": null,
   "id": "11a83f3a",
   "metadata": {},
   "outputs": [],
   "source": [
    "from collections import Counter, OrderedDict\n",
    "\n",
    "class Solution:\n",
    "    def frequencySort(self, s: str) -> str:\n",
    "        mp = Counter(s)\n",
    "        r = OrderedDict(sorted(mp.items(), key=lambda x: x[1], reverse=True))\n",
    "        ss = ''.join([char * freq for char, freq in r.items()])\n",
    "        return ss\n",
    "\n"
   ]
  },
  {
   "cell_type": "code",
   "execution_count": null,
   "id": "0ebf94a6",
   "metadata": {},
   "outputs": [],
   "source": [
    "# Bucket sort approach\n",
    "\n",
    "from collections import Counter\n",
    "class Solution:\n",
    "    def frequencySort(self, s: str) -> str:\n",
    "        count = Counter(s)\n",
    "        max_freq = max(count.values())\n",
    "        buckets = [[] for _ in range(max_freq + 1)]\n",
    "        \n",
    "        for char, freq in count.items():\n",
    "            buckets[freq].append(char)\n",
    "        \n",
    "        result = []\n",
    "        for freq in range(max_freq, 0, -1):\n",
    "            for char in buckets[freq]:\n",
    "                result.append(char * freq)\n",
    "        \n",
    "        return ''.join(result)"
   ]
  },
  {
   "cell_type": "code",
   "execution_count": null,
   "id": "c7d32a61",
   "metadata": {},
   "outputs": [],
   "source": [
    "class Solution:\n",
    "    def frequencySort(self, s: str) -> str:\n",
    "        freq = Counter(s) # char -> count\n",
    "\n",
    "        # Max heap, using - freq\n",
    "        max_heap = [(-count, char) for char, count in freq.items()] # key value pairs\n",
    "        heapq.heapify(max_heap)\n",
    "\n",
    "        res = []\n",
    "        while max_heap:\n",
    "           count, char = heapq.heappop(max_heap)\n",
    "           res.append(char * -count)\n",
    "        \n",
    "        return \"\".join(res)"
   ]
  }
 ],
 "metadata": {
  "language_info": {
   "name": "python"
  }
 },
 "nbformat": 4,
 "nbformat_minor": 5
}
