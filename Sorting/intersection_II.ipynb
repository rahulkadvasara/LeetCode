{
 "cells": [
  {
   "cell_type": "markdown",
   "id": "8a50da07",
   "metadata": {},
   "source": [
    "350. Intersection of Two Arrays II\n",
    "Easy\n",
    "\n",
    "Given two integer arrays nums1 and nums2, return an array of their intersection. Each element in the result must appear as many times as it shows in both arrays and you may return the result in any order.\n",
    "\n",
    "Example 1:\n",
    "Input: nums1 = [1,2,2,1], nums2 = [2,2]\n",
    "Output: [2,2]\n",
    "\n",
    "Example 2:\n",
    "Input: nums1 = [4,9,5], nums2 = [9,4,9,8,4]\n",
    "Output: [4,9]\n",
    "Explanation: [9,4] is also accepted.\n",
    "\n",
    "Constraints:\n",
    "1 <= nums1.length, nums2.length <= 1000\n",
    "0 <= nums1[i], nums2[i] <= 1000\n",
    "\n",
    "Follow up:\n",
    "What if the given array is already sorted? How would you optimize your algorithm?\n",
    "What if nums1's size is small compared to nums2's size? Which algorithm is better?\n",
    "What if elements of nums2 are stored on disk, and the memory is limited such that you cannot load all elements into the memory at once?"
   ]
  },
  {
   "cell_type": "code",
   "execution_count": null,
   "id": "dd958b03",
   "metadata": {},
   "outputs": [],
   "source": [
    "class Solution:\n",
    "    def intersect(self, nums1: List[int], nums2: List[int]) -> List[int]:\n",
    "        nums1.sort()\n",
    "        nums2.sort()\n",
    "\n",
    "        n=len(nums1)\n",
    "        m=len(nums2)\n",
    "        i=j=0\n",
    "        op=[]\n",
    "\n",
    "        while i<n and j<m:\n",
    "            if nums1[i]==nums2[j]:\n",
    "                op.append(nums1[i])\n",
    "                i+=1\n",
    "                j+=1\n",
    "            elif nums1[i]<nums2[j]:\n",
    "                i+=1\n",
    "            else:\n",
    "                j+=1\n",
    "        \n",
    "        return op"
   ]
  },
  {
   "cell_type": "code",
   "execution_count": null,
   "id": "3aed543f",
   "metadata": {},
   "outputs": [],
   "source": [
    "class Solution:\n",
    "    def intersect(self, nums1: List[int], nums2: List[int]) -> List[int]:\n",
    "        op=[]\n",
    "        if len(nums1)<len(nums2):\n",
    "            for x in nums1:\n",
    "                if x in nums2:\n",
    "                    op.append(x)\n",
    "        else:\n",
    "            for x in nums2:\n",
    "                if x in nums1:\n",
    "                    op.append(x)\n",
    "        \n",
    "        return op"
   ]
  },
  {
   "cell_type": "code",
   "execution_count": null,
   "id": "b7915aac",
   "metadata": {},
   "outputs": [],
   "source": [
    "class Solution:\n",
    "    def intersect(self, nums1: List[int], nums2: List[int]) -> List[int]:\n",
    "        if len(nums1) < len(nums2):\n",
    "            return self.intersection(nums1, nums2)\n",
    "        else:\n",
    "            return self.intersection(nums2, nums1)\n",
    "\n",
    "    def intersection(self, nums1, nums2):\n",
    "        return [x for x in nums1 if x in nums2]"
   ]
  },
  {
   "cell_type": "code",
   "execution_count": null,
   "id": "d7a1c92a",
   "metadata": {},
   "outputs": [],
   "source": []
  }
 ],
 "metadata": {
  "language_info": {
   "name": "python"
  }
 },
 "nbformat": 4,
 "nbformat_minor": 5
}
