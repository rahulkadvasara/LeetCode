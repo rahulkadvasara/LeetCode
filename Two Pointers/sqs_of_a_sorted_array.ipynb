{
 "cells": [
  {
   "cell_type": "markdown",
   "id": "d67d3901",
   "metadata": {},
   "source": [
    "977. Squares of a Sorted Array\n",
    "Easy\n",
    "Topics\n",
    "premium lock icon\n",
    "Companies\n",
    "Given an integer array nums sorted in non-decreasing order, return an array of the squares of each number sorted in non-decreasing order.\n",
    "\n",
    " \n",
    "\n",
    "Example 1:\n",
    "\n",
    "Input: nums = [-4,-1,0,3,10]\n",
    "Output: [0,1,9,16,100]\n",
    "Explanation: After squaring, the array becomes [16,1,0,9,100].\n",
    "After sorting, it becomes [0,1,9,16,100].\n",
    "Example 2:\n",
    "\n",
    "Input: nums = [-7,-3,2,3,11]\n",
    "Output: [4,9,9,49,121]\n",
    " \n",
    "\n",
    "Constraints:\n",
    "\n",
    "1 <= nums.length <= 104\n",
    "-104 <= nums[i] <= 104\n",
    "nums is sorted in non-decreasing order.\n",
    " \n",
    "\n",
    "Follow up: Squaring each element and sorting the new array is very trivial, could you find an O(n) solution using a different approach?"
   ]
  },
  {
   "cell_type": "code",
   "execution_count": null,
   "id": "d33aca12",
   "metadata": {},
   "outputs": [],
   "source": [
    "class Solution:\n",
    "    def sortedSquares(self, nums: List[int]) -> List[int]:\n",
    "        l=0\n",
    "        r=len(nums)-1\n",
    "        res=[]\n",
    "\n",
    "        while l<=r:\n",
    "            if abs(nums[l])>abs(nums[r]):\n",
    "                res.append(nums[l]**2)\n",
    "                l+=1\n",
    "            else:\n",
    "                res.append(nums[r]**2)\n",
    "                r-=1\n",
    "        \n",
    "        res.reverse()\n",
    "\n",
    "        return res"
   ]
  }
 ],
 "metadata": {
  "language_info": {
   "name": "python"
  }
 },
 "nbformat": 4,
 "nbformat_minor": 5
}
