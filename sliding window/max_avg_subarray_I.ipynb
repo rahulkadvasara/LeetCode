{
 "cells": [
  {
   "cell_type": "markdown",
   "id": "6db9848c",
   "metadata": {},
   "source": [
    "643. Maximum Average Subarray I\n",
    "Easy\n",
    "Topics\n",
    "premium lock icon\n",
    "Companies\n",
    "You are given an integer array nums consisting of n elements, and an integer k.\n",
    "\n",
    "Find a contiguous subarray whose length is equal to k that has the maximum average value and return this value. Any answer with a calculation error less than 10-5 will be accepted.\n",
    "\n",
    " \n",
    "\n",
    "Example 1:\n",
    "\n",
    "Input: nums = [1,12,-5,-6,50,3], k = 4\n",
    "Output: 12.75000\n",
    "Explanation: Maximum average is (12 - 5 - 6 + 50) / 4 = 51 / 4 = 12.75\n",
    "Example 2:\n",
    "\n",
    "Input: nums = [5], k = 1\n",
    "Output: 5.00000\n",
    " \n",
    "\n",
    "Constraints:\n",
    "\n",
    "n == nums.length\n",
    "1 <= k <= n <= 105\n",
    "-104 <= nums[i] <= 104"
   ]
  },
  {
   "cell_type": "code",
   "execution_count": null,
   "id": "93ef79e3",
   "metadata": {},
   "outputs": [],
   "source": [
    "class Solution:\n",
    "    def findMaxAverage(self, nums: List[int], k: int) -> float:\n",
    "        n=len(nums)\n",
    "        curr=0\n",
    "\n",
    "        for i in range(k):\n",
    "            curr+=nums[i]\n",
    "        \n",
    "        maxx=curr/k\n",
    "\n",
    "        for i in range(k,n):\n",
    "            curr+=nums[i]\n",
    "            curr-=nums[i-k]\n",
    "\n",
    "            avg=curr/k\n",
    "            maxx=max(maxx,avg)\n",
    "        \n",
    "        return maxx"
   ]
  },
  {
   "cell_type": "code",
   "execution_count": null,
   "id": "a1202bed",
   "metadata": {},
   "outputs": [],
   "source": [
    "class Solution:\n",
    "    def findMaxAverage(self, nums: List[int], k: int) -> float:\n",
    "        # pre compute first window\n",
    "        window_sum = sum(nums[:k])\n",
    "        best = window_sum\n",
    "        \n",
    "        # slide the window, checking if there is a greater one\n",
    "        for i in range(k, len(nums)):\n",
    "            window_sum += nums[i] - nums[i - k]\n",
    "            if window_sum > best:\n",
    "                best = window_sum\n",
    "\n",
    "        # dive by k to get average\n",
    "        return best / k"
   ]
  }
 ],
 "metadata": {
  "language_info": {
   "name": "python"
  }
 },
 "nbformat": 4,
 "nbformat_minor": 5
}
