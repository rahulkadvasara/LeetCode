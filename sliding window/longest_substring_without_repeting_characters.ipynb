{
 "cells": [
  {
   "cell_type": "markdown",
   "id": "b0e10675",
   "metadata": {},
   "source": [
    "3. Longest Substring Without Repeating Characters\n",
    "Solved\n",
    "Medium\n",
    "Topics\n",
    "premium lock icon\n",
    "Companies\n",
    "Hint\n",
    "Given a string s, find the length of the longest substring without duplicate characters.\n",
    "\n",
    " \n",
    "\n",
    "Example 1:\n",
    "\n",
    "Input: s = \"abcabcbb\"\n",
    "Output: 3\n",
    "Explanation: The answer is \"abc\", with the length of 3.\n",
    "Example 2:\n",
    "\n",
    "Input: s = \"bbbbb\"\n",
    "Output: 1\n",
    "Explanation: The answer is \"b\", with the length of 1.\n",
    "Example 3:\n",
    "\n",
    "Input: s = \"pwwkew\"\n",
    "Output: 3\n",
    "Explanation: The answer is \"wke\", with the length of 3.\n",
    "Notice that the answer must be a substring, \"pwke\" is a subsequence and not a substring.\n",
    " \n",
    "\n",
    "Constraints:\n",
    "\n",
    "0 <= s.length <= 5 * 104\n",
    "s consists of English letters, digits, symbols and spaces."
   ]
  },
  {
   "cell_type": "code",
   "execution_count": null,
   "id": "17ca48a8",
   "metadata": {},
   "outputs": [],
   "source": [
    "class Solution:\n",
    "    def lengthOfLongestSubstring(self, s: str) -> int:\n",
    "        l=0\n",
    "        longest=0\n",
    "        st=set()\n",
    "        n=len(s)\n",
    "\n",
    "        for r in range(n):\n",
    "            while s[r] in st:\n",
    "                st.remove(s[l])\n",
    "                l+=1\n",
    "        \n",
    "            w=(r-l)+1\n",
    "            longest=max(longest,w)\n",
    "            st.add(s[r])\n",
    "\n",
    "        return longest"
   ]
  }
 ],
 "metadata": {
  "language_info": {
   "name": "python"
  }
 },
 "nbformat": 4,
 "nbformat_minor": 5
}
