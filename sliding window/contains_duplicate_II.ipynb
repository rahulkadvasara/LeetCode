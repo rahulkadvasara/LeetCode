{
 "cells": [
  {
   "cell_type": "markdown",
   "id": "05e2c1ca",
   "metadata": {},
   "source": [
    "219. Contains Duplicate II\n",
    "Easy\n",
    "Topics\n",
    "premium lock icon\n",
    "Companies\n",
    "Given an integer array nums and an integer k, return true if there are two distinct indices i and j in the array such that nums[i] == nums[j] and abs(i - j) <= k.\n",
    "\n",
    " \n",
    "\n",
    "Example 1:\n",
    "\n",
    "Input: nums = [1,2,3,1], k = 3\n",
    "Output: true\n",
    "Example 2:\n",
    "\n",
    "Input: nums = [1,0,1,1], k = 1\n",
    "Output: true\n",
    "Example 3:\n",
    "\n",
    "Input: nums = [1,2,3,1,2,3], k = 2\n",
    "Output: false\n",
    " \n",
    "\n",
    "Constraints:\n",
    "\n",
    "1 <= nums.length <= 105\n",
    "-109 <= nums[i] <= 109\n",
    "0 <= k <= 105\n",
    " \n"
   ]
  },
  {
   "cell_type": "code",
   "execution_count": null,
   "id": "8d15757b",
   "metadata": {},
   "outputs": [],
   "source": [
    "class Solution:\n",
    "    def containsNearbyDuplicate(self, nums: List[int], k: int) -> bool:\n",
    "        seen = {}\n",
    "\n",
    "        for i, val in enumerate(nums):\n",
    "            if val in seen and i - seen[val] <= k:\n",
    "                return True\n",
    "            else:\n",
    "                seen[val] = i\n",
    "        \n",
    "        return False"
   ]
  },
  {
   "cell_type": "code",
   "execution_count": null,
   "id": "b3cb8b82",
   "metadata": {},
   "outputs": [],
   "source": [
    "class Solution:\n",
    "    def containsNearbyDuplicate(self, nums: List[int], k: int) -> bool:\n",
    "        seen = set()\n",
    "\n",
    "        for i, val in enumerate(nums):\n",
    "            if i > k:\n",
    "                seen.remove(nums[i - k - 1])\n",
    "\n",
    "            if val in seen:\n",
    "                return True\n",
    "\n",
    "            seen.add(val)\n",
    "\n",
    "        return False"
   ]
  },
  {
   "cell_type": "code",
   "execution_count": null,
   "id": "a3d507a3",
   "metadata": {},
   "outputs": [],
   "source": [
    "class Solution:\n",
    "    def containsNearbyDuplicate(self, nums: List[int], k: int) -> bool:\n",
    "        i,j=0,len(nums)-1\n",
    "        while i < j:\n",
    "            if nums[i] == nums[j] and abs(i-j) <= k:\n",
    "                return True\n",
    "            else:\n",
    "                j-=1\n",
    "                if j == i:\n",
    "                    i += 1\n",
    "                    j = len(nums) - 1\n",
    "        return False"
   ]
  },
  {
   "cell_type": "code",
   "execution_count": null,
   "id": "aa1416d4",
   "metadata": {},
   "outputs": [],
   "source": [
    "class Solution:\n",
    "    def containsNearbyDuplicate(self, nums: List[int], k: int) -> bool:\n",
    "        window = set()\n",
    "        for i, num in enumerate(nums):\n",
    "            if num in window:\n",
    "                return True\n",
    "            window.add(num)\n",
    "            if i >= k:\n",
    "                window.remove(nums[i - k])\n",
    "        return False"
   ]
  },
  {
   "cell_type": "code",
   "execution_count": null,
   "id": "10ec5430",
   "metadata": {},
   "outputs": [],
   "source": [
    "class Solution:\n",
    "    def containsNearbyDuplicate(self, nums: List[int], k: int) -> bool:\n",
    "        left = 0\n",
    "        window = set()\n",
    "        for right in range(len(nums)):\n",
    "            if nums[right] in window:\n",
    "                return True\n",
    "            window.add(nums[right])\n",
    "            if right - left >= k:\n",
    "                window.remove(nums[left])\n",
    "                left += 1\n",
    "        return False"
   ]
  },
  {
   "cell_type": "code",
   "execution_count": null,
   "id": "3a1aece2",
   "metadata": {},
   "outputs": [],
   "source": [
    "class Solution:\n",
    "    def containsNearbyDuplicate(self, nums: List[int], k: int) -> bool:\n",
    "        if k == 0 or len(nums) == len(set(nums)):\n",
    "            return False\n",
    "        for i in range(len(nums)):\n",
    "            if nums[i] in nums[i + 1 : i + k + 1]:\n",
    "                return True\n",
    "        return False"
   ]
  },
  {
   "cell_type": "code",
   "execution_count": null,
   "id": "b9fc3b84",
   "metadata": {},
   "outputs": [],
   "source": [
    "class Solution:\n",
    "    def containsNearbyDuplicate(self, nums: List[int], k: int) -> bool:\n",
    "        for i, v in enumerate(nums):\n",
    "            if v in nums[i+1:i+k+1]:\n",
    "                return True\n",
    "        return False\n",
    "        "
   ]
  }
 ],
 "metadata": {
  "kernelspec": {
   "display_name": "base",
   "language": "python",
   "name": "python3"
  },
  "language_info": {
   "codemirror_mode": {
    "name": "ipython",
    "version": 3
   },
   "file_extension": ".py",
   "mimetype": "text/x-python",
   "name": "python",
   "nbconvert_exporter": "python",
   "pygments_lexer": "ipython3",
   "version": "3.12.7"
  }
 },
 "nbformat": 4,
 "nbformat_minor": 5
}
