{
 "cells": [
  {
   "cell_type": "markdown",
   "id": "3e1dabee",
   "metadata": {},
   "source": [
    "45. Jump Game II\n",
    "Solved\n",
    "Medium\n",
    "Topics\n",
    "premium lock icon\n",
    "Companies\n",
    "You are given a 0-indexed array of integers nums of length n. You are initially positioned at index 0.\n",
    "\n",
    "Each element nums[i] represents the maximum length of a forward jump from index i. In other words, if you are at index i, you can jump to any index (i + j) where:\n",
    "\n",
    "0 <= j <= nums[i] and\n",
    "i + j < n\n",
    "Return the minimum number of jumps to reach index n - 1. The test cases are generated such that you can reach index n - 1.\n",
    "\n",
    " \n",
    "\n",
    "Example 1:\n",
    "\n",
    "Input: nums = [2,3,1,1,4]\n",
    "Output: 2\n",
    "Explanation: The minimum number of jumps to reach the last index is 2. Jump 1 step from index 0 to 1, then 3 steps to the last index.\n",
    "Example 2:\n",
    "\n",
    "Input: nums = [2,3,0,1,4]\n",
    "Output: 2\n",
    " \n",
    "\n",
    "Constraints:\n",
    "\n",
    "1 <= nums.length <= 104\n",
    "0 <= nums[i] <= 1000\n",
    "It's guaranteed that you can reach nums[n - 1]."
   ]
  },
  {
   "cell_type": "code",
   "execution_count": null,
   "id": "4ec92220",
   "metadata": {},
   "outputs": [],
   "source": [
    "class Solution:\n",
    "    def jump(self, nums: List[int]) -> int:\n",
    "        near = far = jumps = 0\n",
    "\n",
    "        while far < len(nums) - 1:\n",
    "            farthest = 0\n",
    "            for i in range(near, far + 1):\n",
    "                farthest = max(farthest, i + nums[i])\n",
    "            \n",
    "            near = far + 1\n",
    "            far = farthest\n",
    "            jumps += 1\n",
    "        \n",
    "        return jumps"
   ]
  }
 ],
 "metadata": {
  "language_info": {
   "name": "python"
  }
 },
 "nbformat": 4,
 "nbformat_minor": 5
}
