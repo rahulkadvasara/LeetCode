{
 "cells": [
  {
   "cell_type": "markdown",
   "id": "670c8f33",
   "metadata": {},
   "source": [
    "118. Pascal's Triangle\n",
    "Solved\n",
    "Easy\n",
    "Topics\n",
    "premium lock icon\n",
    "Companies\n",
    "Given an integer numRows, return the first numRows of Pascal's triangle.\n",
    "\n",
    "In Pascal's triangle, each number is the sum of the two numbers directly above it as shown:\n",
    "\n",
    "\n",
    " \n",
    "\n",
    "Example 1:\n",
    "\n",
    "Input: numRows = 5\n",
    "Output: [[1],[1,1],[1,2,1],[1,3,3,1],[1,4,6,4,1]]\n",
    "Example 2:\n",
    "\n",
    "Input: numRows = 1\n",
    "Output: [[1]]\n",
    " \n",
    "\n",
    "Constraints:\n",
    "\n",
    "1 <= numRows <= 30"
   ]
  },
  {
   "cell_type": "code",
   "execution_count": null,
   "id": "34a777b0",
   "metadata": {},
   "outputs": [],
   "source": [
    "class Solution:\n",
    "    def generate(self, numRows: int) -> List[List[int]]:\n",
    "        if numRows==0:\n",
    "            return []\n",
    "        if numRows==1:\n",
    "            return [[1]]\n",
    "\n",
    "        sol=self.generate(numRows-1)\n",
    "        prev=sol[-1]\n",
    "        curr=[1]\n",
    "\n",
    "        for i in range(1,numRows-1):\n",
    "            curr.append(prev[i-1]+prev[i])\n",
    "        \n",
    "        curr.append(1)\n",
    "        sol.append(curr)\n",
    "\n",
    "        return sol"
   ]
  }
 ],
 "metadata": {
  "language_info": {
   "name": "python"
  }
 },
 "nbformat": 4,
 "nbformat_minor": 5
}
