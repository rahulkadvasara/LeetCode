{
 "cells": [
  {
   "cell_type": "markdown",
   "id": "afe84f06",
   "metadata": {},
   "source": [
    "164. Maximum Gap\n",
    "Medium\n",
    "\n",
    "Given an integer array nums, return the maximum difference between two successive elements in its sorted form. If the array contains less than two elements, return 0.\n",
    "You must write an algorithm that runs in linear time and uses linear extra space.\n",
    "\n",
    "Example 1:\n",
    "Input: nums = [3,6,9,1]\n",
    "Output: 3\n",
    "Explanation: The sorted form of the array is [1,3,6,9], either (3,6) or (6,9) has the maximum difference 3.\n",
    "\n",
    "Example 2:\n",
    "Input: nums = [10]\n",
    "Output: 0\n",
    "Explanation: The array contains less than 2 elements, therefore return 0.\n",
    "\n",
    "Constraints:\n",
    "1 <= nums.length <= 105\n",
    "0 <= nums[i] <= 109"
   ]
  },
  {
   "cell_type": "code",
   "execution_count": null,
   "id": "9e05404c",
   "metadata": {},
   "outputs": [],
   "source": [
    "# Bucket Sort\n",
    "\n",
    "class Solution:\n",
    "    def maximumGap(self, nums: List[int]) -> int:\n",
    "        if len(nums) < 2:\n",
    "            return 0\n",
    "        \n",
    "        min_num, max_num = min(nums), max(nums)\n",
    "        if min_num == max_num:\n",
    "            return 0\n",
    "        \n",
    "        bucket_size = max(1, (max_num - min_num) // (len(nums) - 1))\n",
    "        bucket_count = (max_num - min_num) // bucket_size + 1\n",
    "        \n",
    "        buckets = [[float('inf'), float('-inf')] for _ in range(bucket_count)]\n",
    "        \n",
    "        for num in nums:\n",
    "            idx = (num - min_num) // bucket_size\n",
    "            buckets[idx][0] = min(buckets[idx][0], num)\n",
    "            buckets[idx][1] = max(buckets[idx][1], num)\n",
    "        \n",
    "        max_gap = 0\n",
    "        prev_max = min_num\n",
    "        \n",
    "        for low, high in buckets:\n",
    "            if low == float('inf'):\n",
    "                continue\n",
    "            max_gap = max(max_gap, low - prev_max)\n",
    "            prev_max = high\n",
    "        \n",
    "        return max_gap"
   ]
  },
  {
   "cell_type": "code",
   "execution_count": null,
   "id": "b1028357",
   "metadata": {},
   "outputs": [],
   "source": [
    "class Solution:\n",
    "    def maximumGap(self, nums: List[int]) -> int:\n",
    "        nums.sort()\n",
    "    \n",
    "        maxx = 0\n",
    "\n",
    "        for i in range(1, len(nums)):\n",
    "            maxx = max(maxx, nums[i]-nums[i-1])\n",
    "\n",
    "        return maxx"
   ]
  },
  {
   "cell_type": "code",
   "execution_count": null,
   "id": "d13cd43f",
   "metadata": {},
   "outputs": [],
   "source": [
    "class Solution:\n",
    "    def maximumGap(self, nums: List[int]) -> int:\n",
    "        if len(nums) == 0:\n",
    "            return 0\n",
    "        nums_set = set(nums)\n",
    "        if len(nums_set) == 0:\n",
    "            return 0\n",
    "        prev = min(nums)\n",
    "        max_gap = 0\n",
    "        for num in sorted(nums_set):\n",
    "            if num - prev > max_gap:\n",
    "                max_gap = num - prev\n",
    "            prev = num\n",
    "        return max_gap"
   ]
  },
  {
   "cell_type": "code",
   "execution_count": null,
   "id": "7c0c0c01",
   "metadata": {},
   "outputs": [],
   "source": [
    "class Solution:\n",
    "    def maximumGap(self, nums: List[int]) -> int:\n",
    "        nums.sort() \n",
    "\n",
    "        max_difference = 0\n",
    "        for i in range(1, len(nums)):\n",
    "            if nums[i] - nums[i - 1] > max_difference:\n",
    "                max_difference = nums[i] - nums[i - 1]\n",
    "        return max_difference"
   ]
  },
  {
   "cell_type": "code",
   "execution_count": null,
   "id": "8fb558a8",
   "metadata": {},
   "outputs": [],
   "source": [
    "class Solution:\n",
    "    def maximumGap(self, nums: List[int]) -> int:\n",
    "        if len(nums) < 2:\n",
    "            return 0\n",
    "\n",
    "        nums.sort()\n",
    "        diff = 0\n",
    "\n",
    "        for i in range(len(nums) - 1):\n",
    "            temp = nums[i + 1] - nums[i]\n",
    "            if temp > diff:\n",
    "                diff = temp\n",
    "                i += 1\n",
    "        return diff\n"
   ]
  }
 ],
 "metadata": {
  "language_info": {
   "name": "python"
  }
 },
 "nbformat": 4,
 "nbformat_minor": 5
}
